{
 "cells": [
  {
   "cell_type": "code",
   "execution_count": 1,
   "id": "a414f33e",
   "metadata": {
    "scrolled": true
   },
   "outputs": [],
   "source": [
    "import pandas_datareader as pdr\n",
    "import pandas as pd\n",
    "import matplotlib.pyplot as plt\n",
    "import numpy as np\n",
    "\n",
    "from sklearn.preprocessing import MinMaxScaler"
   ]
  },
  {
   "cell_type": "code",
   "execution_count": 2,
   "id": "bc08a6b9",
   "metadata": {},
   "outputs": [],
   "source": [
    "key = 'fdad97641575b685a33767af5884211d3629822f'\n"
   ]
  },
  {
   "cell_type": "code",
   "execution_count": 3,
   "id": "3e06e0d1",
   "metadata": {},
   "outputs": [],
   "source": [
    "df = pdr.get_data_tiingo(\"MSFT\", api_key=key)"
   ]
  },
  {
   "cell_type": "code",
   "execution_count": 4,
   "id": "cb495758",
   "metadata": {},
   "outputs": [],
   "source": [
    "df.to_csv('MSFT.csv')"
   ]
  },
  {
   "cell_type": "code",
   "execution_count": 6,
   "id": "11d3484d",
   "metadata": {},
   "outputs": [],
   "source": [
    "df = pd.read_csv('MSFT.csv')"
   ]
  },
  {
   "cell_type": "code",
   "execution_count": 8,
   "id": "604c32ca",
   "metadata": {},
   "outputs": [
    {
     "data": {
      "text/html": [
       "<div>\n",
       "<style scoped>\n",
       "    .dataframe tbody tr th:only-of-type {\n",
       "        vertical-align: middle;\n",
       "    }\n",
       "\n",
       "    .dataframe tbody tr th {\n",
       "        vertical-align: top;\n",
       "    }\n",
       "\n",
       "    .dataframe thead th {\n",
       "        text-align: right;\n",
       "    }\n",
       "</style>\n",
       "<table border=\"1\" class=\"dataframe\">\n",
       "  <thead>\n",
       "    <tr style=\"text-align: right;\">\n",
       "      <th></th>\n",
       "      <th>symbol</th>\n",
       "      <th>date</th>\n",
       "      <th>close</th>\n",
       "      <th>high</th>\n",
       "      <th>low</th>\n",
       "      <th>open</th>\n",
       "      <th>volume</th>\n",
       "      <th>adjClose</th>\n",
       "      <th>adjHigh</th>\n",
       "      <th>adjLow</th>\n",
       "      <th>adjOpen</th>\n",
       "      <th>adjVolume</th>\n",
       "      <th>divCash</th>\n",
       "      <th>splitFactor</th>\n",
       "    </tr>\n",
       "  </thead>\n",
       "  <tbody>\n",
       "    <tr>\n",
       "      <th>0</th>\n",
       "      <td>MSFT</td>\n",
       "      <td>2016-11-03 00:00:00+00:00</td>\n",
       "      <td>59.21</td>\n",
       "      <td>59.64</td>\n",
       "      <td>59.11</td>\n",
       "      <td>59.53</td>\n",
       "      <td>21600427</td>\n",
       "      <td>54.789170</td>\n",
       "      <td>55.187065</td>\n",
       "      <td>54.696637</td>\n",
       "      <td>55.085278</td>\n",
       "      <td>21600427</td>\n",
       "      <td>0.0</td>\n",
       "      <td>1.0</td>\n",
       "    </tr>\n",
       "    <tr>\n",
       "      <th>1</th>\n",
       "      <td>MSFT</td>\n",
       "      <td>2016-11-04 00:00:00+00:00</td>\n",
       "      <td>58.71</td>\n",
       "      <td>59.28</td>\n",
       "      <td>58.52</td>\n",
       "      <td>58.65</td>\n",
       "      <td>28697016</td>\n",
       "      <td>54.326502</td>\n",
       "      <td>54.853944</td>\n",
       "      <td>54.150688</td>\n",
       "      <td>54.270982</td>\n",
       "      <td>28697016</td>\n",
       "      <td>0.0</td>\n",
       "      <td>1.0</td>\n",
       "    </tr>\n",
       "    <tr>\n",
       "      <th>2</th>\n",
       "      <td>MSFT</td>\n",
       "      <td>2016-11-07 00:00:00+00:00</td>\n",
       "      <td>60.42</td>\n",
       "      <td>60.52</td>\n",
       "      <td>59.78</td>\n",
       "      <td>59.78</td>\n",
       "      <td>31664798</td>\n",
       "      <td>55.908827</td>\n",
       "      <td>56.001361</td>\n",
       "      <td>55.316612</td>\n",
       "      <td>55.316612</td>\n",
       "      <td>31664798</td>\n",
       "      <td>0.0</td>\n",
       "      <td>1.0</td>\n",
       "    </tr>\n",
       "    <tr>\n",
       "      <th>3</th>\n",
       "      <td>MSFT</td>\n",
       "      <td>2016-11-08 00:00:00+00:00</td>\n",
       "      <td>60.47</td>\n",
       "      <td>60.78</td>\n",
       "      <td>60.15</td>\n",
       "      <td>60.55</td>\n",
       "      <td>22935355</td>\n",
       "      <td>55.955094</td>\n",
       "      <td>56.241948</td>\n",
       "      <td>55.658986</td>\n",
       "      <td>56.029121</td>\n",
       "      <td>22935355</td>\n",
       "      <td>0.0</td>\n",
       "      <td>1.0</td>\n",
       "    </tr>\n",
       "    <tr>\n",
       "      <th>4</th>\n",
       "      <td>MSFT</td>\n",
       "      <td>2016-11-09 00:00:00+00:00</td>\n",
       "      <td>60.17</td>\n",
       "      <td>60.59</td>\n",
       "      <td>59.20</td>\n",
       "      <td>60.00</td>\n",
       "      <td>49632479</td>\n",
       "      <td>55.677493</td>\n",
       "      <td>56.066134</td>\n",
       "      <td>54.779917</td>\n",
       "      <td>55.520186</td>\n",
       "      <td>49632479</td>\n",
       "      <td>0.0</td>\n",
       "      <td>1.0</td>\n",
       "    </tr>\n",
       "  </tbody>\n",
       "</table>\n",
       "</div>"
      ],
      "text/plain": [
       "  symbol                       date  close   high    low   open    volume  \\\n",
       "0   MSFT  2016-11-03 00:00:00+00:00  59.21  59.64  59.11  59.53  21600427   \n",
       "1   MSFT  2016-11-04 00:00:00+00:00  58.71  59.28  58.52  58.65  28697016   \n",
       "2   MSFT  2016-11-07 00:00:00+00:00  60.42  60.52  59.78  59.78  31664798   \n",
       "3   MSFT  2016-11-08 00:00:00+00:00  60.47  60.78  60.15  60.55  22935355   \n",
       "4   MSFT  2016-11-09 00:00:00+00:00  60.17  60.59  59.20  60.00  49632479   \n",
       "\n",
       "    adjClose    adjHigh     adjLow    adjOpen  adjVolume  divCash  splitFactor  \n",
       "0  54.789170  55.187065  54.696637  55.085278   21600427      0.0          1.0  \n",
       "1  54.326502  54.853944  54.150688  54.270982   28697016      0.0          1.0  \n",
       "2  55.908827  56.001361  55.316612  55.316612   31664798      0.0          1.0  \n",
       "3  55.955094  56.241948  55.658986  56.029121   22935355      0.0          1.0  \n",
       "4  55.677493  56.066134  54.779917  55.520186   49632479      0.0          1.0  "
      ]
     },
     "execution_count": 8,
     "metadata": {},
     "output_type": "execute_result"
    }
   ],
   "source": [
    "df.head()"
   ]
  },
  {
   "cell_type": "code",
   "execution_count": 9,
   "id": "e5c91494",
   "metadata": {},
   "outputs": [
    {
     "data": {
      "text/html": [
       "<div>\n",
       "<style scoped>\n",
       "    .dataframe tbody tr th:only-of-type {\n",
       "        vertical-align: middle;\n",
       "    }\n",
       "\n",
       "    .dataframe tbody tr th {\n",
       "        vertical-align: top;\n",
       "    }\n",
       "\n",
       "    .dataframe thead th {\n",
       "        text-align: right;\n",
       "    }\n",
       "</style>\n",
       "<table border=\"1\" class=\"dataframe\">\n",
       "  <thead>\n",
       "    <tr style=\"text-align: right;\">\n",
       "      <th></th>\n",
       "      <th>symbol</th>\n",
       "      <th>date</th>\n",
       "      <th>close</th>\n",
       "      <th>high</th>\n",
       "      <th>low</th>\n",
       "      <th>open</th>\n",
       "      <th>volume</th>\n",
       "      <th>adjClose</th>\n",
       "      <th>adjHigh</th>\n",
       "      <th>adjLow</th>\n",
       "      <th>adjOpen</th>\n",
       "      <th>adjVolume</th>\n",
       "      <th>divCash</th>\n",
       "      <th>splitFactor</th>\n",
       "    </tr>\n",
       "  </thead>\n",
       "  <tbody>\n",
       "    <tr>\n",
       "      <th>1253</th>\n",
       "      <td>MSFT</td>\n",
       "      <td>2021-10-27 00:00:00+00:00</td>\n",
       "      <td>323.17</td>\n",
       "      <td>326.0973</td>\n",
       "      <td>316.0000</td>\n",
       "      <td>316.000</td>\n",
       "      <td>52588690</td>\n",
       "      <td>323.17</td>\n",
       "      <td>326.0973</td>\n",
       "      <td>316.0000</td>\n",
       "      <td>316.000</td>\n",
       "      <td>52588690</td>\n",
       "      <td>0.0</td>\n",
       "      <td>1.0</td>\n",
       "    </tr>\n",
       "    <tr>\n",
       "      <th>1254</th>\n",
       "      <td>MSFT</td>\n",
       "      <td>2021-10-28 00:00:00+00:00</td>\n",
       "      <td>324.35</td>\n",
       "      <td>324.8700</td>\n",
       "      <td>321.3601</td>\n",
       "      <td>324.325</td>\n",
       "      <td>26297943</td>\n",
       "      <td>324.35</td>\n",
       "      <td>324.8700</td>\n",
       "      <td>321.3601</td>\n",
       "      <td>324.325</td>\n",
       "      <td>26297943</td>\n",
       "      <td>0.0</td>\n",
       "      <td>1.0</td>\n",
       "    </tr>\n",
       "    <tr>\n",
       "      <th>1255</th>\n",
       "      <td>MSFT</td>\n",
       "      <td>2021-10-29 00:00:00+00:00</td>\n",
       "      <td>331.62</td>\n",
       "      <td>332.0000</td>\n",
       "      <td>323.9000</td>\n",
       "      <td>324.130</td>\n",
       "      <td>34765982</td>\n",
       "      <td>331.62</td>\n",
       "      <td>332.0000</td>\n",
       "      <td>323.9000</td>\n",
       "      <td>324.130</td>\n",
       "      <td>34765982</td>\n",
       "      <td>0.0</td>\n",
       "      <td>1.0</td>\n",
       "    </tr>\n",
       "    <tr>\n",
       "      <th>1256</th>\n",
       "      <td>MSFT</td>\n",
       "      <td>2021-11-01 00:00:00+00:00</td>\n",
       "      <td>329.37</td>\n",
       "      <td>331.4900</td>\n",
       "      <td>326.3700</td>\n",
       "      <td>331.355</td>\n",
       "      <td>26840400</td>\n",
       "      <td>329.37</td>\n",
       "      <td>331.4900</td>\n",
       "      <td>326.3700</td>\n",
       "      <td>331.355</td>\n",
       "      <td>26840400</td>\n",
       "      <td>0.0</td>\n",
       "      <td>1.0</td>\n",
       "    </tr>\n",
       "    <tr>\n",
       "      <th>1257</th>\n",
       "      <td>MSFT</td>\n",
       "      <td>2021-11-02 00:00:00+00:00</td>\n",
       "      <td>333.13</td>\n",
       "      <td>333.4500</td>\n",
       "      <td>330.0000</td>\n",
       "      <td>330.310</td>\n",
       "      <td>25719044</td>\n",
       "      <td>333.13</td>\n",
       "      <td>333.4500</td>\n",
       "      <td>330.0000</td>\n",
       "      <td>330.310</td>\n",
       "      <td>25719044</td>\n",
       "      <td>0.0</td>\n",
       "      <td>1.0</td>\n",
       "    </tr>\n",
       "  </tbody>\n",
       "</table>\n",
       "</div>"
      ],
      "text/plain": [
       "     symbol                       date   close      high       low     open  \\\n",
       "1253   MSFT  2021-10-27 00:00:00+00:00  323.17  326.0973  316.0000  316.000   \n",
       "1254   MSFT  2021-10-28 00:00:00+00:00  324.35  324.8700  321.3601  324.325   \n",
       "1255   MSFT  2021-10-29 00:00:00+00:00  331.62  332.0000  323.9000  324.130   \n",
       "1256   MSFT  2021-11-01 00:00:00+00:00  329.37  331.4900  326.3700  331.355   \n",
       "1257   MSFT  2021-11-02 00:00:00+00:00  333.13  333.4500  330.0000  330.310   \n",
       "\n",
       "        volume  adjClose   adjHigh    adjLow  adjOpen  adjVolume  divCash  \\\n",
       "1253  52588690    323.17  326.0973  316.0000  316.000   52588690      0.0   \n",
       "1254  26297943    324.35  324.8700  321.3601  324.325   26297943      0.0   \n",
       "1255  34765982    331.62  332.0000  323.9000  324.130   34765982      0.0   \n",
       "1256  26840400    329.37  331.4900  326.3700  331.355   26840400      0.0   \n",
       "1257  25719044    333.13  333.4500  330.0000  330.310   25719044      0.0   \n",
       "\n",
       "      splitFactor  \n",
       "1253          1.0  \n",
       "1254          1.0  \n",
       "1255          1.0  \n",
       "1256          1.0  \n",
       "1257          1.0  "
      ]
     },
     "execution_count": 9,
     "metadata": {},
     "output_type": "execute_result"
    }
   ],
   "source": [
    "df.tail()"
   ]
  },
  {
   "cell_type": "code",
   "execution_count": 10,
   "id": "ece60b7a",
   "metadata": {},
   "outputs": [],
   "source": [
    "df1=df.reset_index()['close']"
   ]
  },
  {
   "cell_type": "code",
   "execution_count": 11,
   "id": "9f90eade",
   "metadata": {},
   "outputs": [
    {
     "data": {
      "text/plain": [
       "(1258,)"
      ]
     },
     "execution_count": 11,
     "metadata": {},
     "output_type": "execute_result"
    }
   ],
   "source": [
    "df1.shape"
   ]
  },
  {
   "cell_type": "code",
   "execution_count": 12,
   "id": "ed55e726",
   "metadata": {},
   "outputs": [
    {
     "data": {
      "text/plain": [
       "0    59.21\n",
       "1    58.71\n",
       "2    60.42\n",
       "3    60.47\n",
       "4    60.17\n",
       "Name: close, dtype: float64"
      ]
     },
     "execution_count": 12,
     "metadata": {},
     "output_type": "execute_result"
    }
   ],
   "source": [
    "df1.head()"
   ]
  },
  {
   "cell_type": "code",
   "execution_count": 13,
   "id": "8db09f96",
   "metadata": {},
   "outputs": [
    {
     "data": {
      "text/plain": [
       "[<matplotlib.lines.Line2D at 0x1f4e32e7250>]"
      ]
     },
     "execution_count": 13,
     "metadata": {},
     "output_type": "execute_result"
    },
    {
     "data": {
      "image/png": "[encoded data removed]",
      "text/plain": [
       "<Figure size 432x288 with 1 Axes>"
      ]
     },
     "metadata": {
      "needs_background": "light"
     },
     "output_type": "display_data"
    }
   ],
   "source": [
    "plt.plot(df1)"
   ]
  },
  {
   "cell_type": "code",
   "execution_count": 11,
   "id": "4b6c995e",
   "metadata": {},
   "outputs": [],
   "source": [
    "### LSTM are sensitve to scale of data. so we aply MinMax scaler\n"
   ]
  },
  {
   "cell_type": "code",
   "execution_count": 14,
   "id": "d4620f20",
   "metadata": {},
   "outputs": [],
   "source": [
    "scaler=MinMaxScaler(feature_range=(0,1))\n",
    "df1=scaler.fit_transform(np.array(df1).reshape(-1,1))"
   ]
  },
  {
   "cell_type": "code",
   "execution_count": 15,
   "id": "5f453e04",
   "metadata": {},
   "outputs": [
    {
     "data": {
      "text/plain": [
       "array([[0.00396349],\n",
       "       [0.00214538],\n",
       "       [0.00836333],\n",
       "       ...,\n",
       "       [0.99450929],\n",
       "       [0.98632777],\n",
       "       [1.        ]])"
      ]
     },
     "execution_count": 15,
     "metadata": {},
     "output_type": "execute_result"
    }
   ],
   "source": [
    "df1"
   ]
  },
  {
   "cell_type": "code",
   "execution_count": 16,
   "id": "60f73920",
   "metadata": {},
   "outputs": [],
   "source": [
    " ##spliting dataset into train and test split\n",
    "training_size = int(len(df1)*0.65)\n",
    "test_size = len(df1) - training_size\n",
    "train_data,test_data = df1[0:training_size,:],df1[training_size:len(df1),:1]"
   ]
  },
  {
   "cell_type": "code",
   "execution_count": 17,
   "id": "02a8d4d1",
   "metadata": {},
   "outputs": [],
   "source": [
    "def create_dataset(dataset, time_step=1):\n",
    "    dataX, dataY = [], []\n",
    "    for i in range(len(dataset)-time_step-1):\n",
    "        a = dataset[i:(i+time_step), 0]\n",
    "        dataX.append(a)\n",
    "        dataY.append(dataset[i + time_step, 0])\n",
    "    return np.array(dataX), np.array(dataY)"
   ]
  },
  {
   "cell_type": "code",
   "execution_count": 18,
   "id": "5827ec25",
   "metadata": {},
   "outputs": [],
   "source": [
    "time_step = 100\n",
    "X_train, y_train = create_dataset(train_data, time_step)\n",
    "X_test, ytest = create_dataset(test_data, time_step)"
   ]
  },
  {
   "cell_type": "code",
   "execution_count": 19,
   "id": "f8f80191",
   "metadata": {},
   "outputs": [
    {
     "name": "stdout",
     "output_type": "stream",
     "text": [
      "[[0.00396349 0.00214538 0.00836333 ... 0.0253809  0.02607178 0.0267263 ]\n",
      " [0.00214538 0.00836333 0.00854514 ... 0.02607178 0.0267263  0.027599  ]\n",
      " [0.00836333 0.00854514 0.00745427 ... 0.0267263  0.027599   0.02814443]\n",
      " ...\n",
      " [0.29446202 0.28871677 0.2834806  ... 0.37874986 0.39031308 0.39969456]\n",
      " [0.28871677 0.2834806  0.28362605 ... 0.39031308 0.39969456 0.41693029]\n",
      " [0.2834806  0.28362605 0.28871677 ... 0.39969456 0.41693029 0.4076579 ]]\n"
     ]
    }
   ],
   "source": [
    "print(X_train)"
   ]
  },
  {
   "cell_type": "code",
   "execution_count": 20,
   "id": "2eee337f",
   "metadata": {},
   "outputs": [
    {
     "name": "stdout",
     "output_type": "stream",
     "text": [
      "(716, 100) (716,)\n"
     ]
    }
   ],
   "source": [
    "print(X_train.shape, y_train.shape)"
   ]
  },
  {
   "cell_type": "code",
   "execution_count": 21,
   "id": "f697e586",
   "metadata": {},
   "outputs": [],
   "source": [
    "#reshape input to be [samples, time_steps, features] which is required for LSTM\n",
    "X_train = X_train.reshape(X_train.shape[0], X_train.shape[1] , 1)\n",
    "X_test  = X_test.reshape(X_test.shape[0], X_test.shape[1], 1)\n"
   ]
  },
  {
   "cell_type": "code",
   "execution_count": 22,
   "id": "4441c5ff",
   "metadata": {},
   "outputs": [
    {
     "name": "stdout",
     "output_type": "stream",
     "text": [
      "(716, 100, 1)\n"
     ]
    }
   ],
   "source": [
    "print(X_train.shape)"
   ]
  },
  {
   "cell_type": "code",
   "execution_count": 23,
   "id": "a52785e2",
   "metadata": {},
   "outputs": [
    {
     "data": {
      "text/plain": [
       "(340,)"
      ]
     },
     "execution_count": 23,
     "metadata": {},
     "output_type": "execute_result"
    }
   ],
   "source": [
    "ytest.shape"
   ]
  },
  {
   "cell_type": "code",
   "execution_count": 24,
   "id": "21a42cc2",
   "metadata": {},
   "outputs": [],
   "source": [
    "### Create the LSTM model\n",
    "from tensorflow.keras.models import Sequential\n",
    "from tensorflow.keras.layers import Dense\n",
    "from tensorflow.keras.layers import LSTM"
   ]
  },
  {
   "cell_type": "code",
   "execution_count": 25,
   "id": "3dbbea71",
   "metadata": {},
   "outputs": [],
   "source": [
    "model=Sequential()\n",
    "model.add(LSTM(50,return_sequences=True,input_shape=(100, 1)))\n",
    "model.add(LSTM(50,return_sequences=True))\n",
    "model.add(LSTM(50))\n",
    "model.add(Dense(1))\n",
    "model.compile(loss='mean_squared_error', optimizer='adam')"
   ]
  },
  {
   "cell_type": "code",
   "execution_count": 26,
   "id": "982d28bd",
   "metadata": {},
   "outputs": [
    {
     "name": "stdout",
     "output_type": "stream",
     "text": [
      "Model: \"sequential\"\n",
      "_________________________________________________________________\n",
      "Layer (type)                 Output Shape              Param #   \n",
      "=================================================================\n",
      "lstm (LSTM)                  (None, 100, 50)           10400     \n",
      "_________________________________________________________________\n",
      "lstm_1 (LSTM)                (None, 100, 50)           20200     \n",
      "_________________________________________________________________\n",
      "lstm_2 (LSTM)                (None, 50)                20200     \n",
      "_________________________________________________________________\n",
      "dense (Dense)                (None, 1)                 51        \n",
      "=================================================================\n",
      "Total params: 50,851\n",
      "Trainable params: 50,851\n",
      "Non-trainable params: 0\n",
      "_________________________________________________________________\n"
     ]
    }
   ],
   "source": [
    "model.summary()"
   ]
  },
  {
   "cell_type": "code",
   "execution_count": 27,
   "id": "65a0a891",
   "metadata": {
    "scrolled": true
   },
   "outputs": [
    {
     "name": "stdout",
     "output_type": "stream",
     "text": [
      "Epoch 1/100\n",
      "12/12 [==============================] - 7s 583ms/step - loss: 0.0094 - val_loss: 0.0820\n",
      "Epoch 2/100\n",
      "12/12 [==============================] - 4s 312ms/step - loss: 0.0019 - val_loss: 0.0039\n",
      "Epoch 3/100\n",
      "12/12 [==============================] - 4s 309ms/step - loss: 4.1226e-04 - val_loss: 0.0051\n",
      "Epoch 4/100\n",
      "12/12 [==============================] - 4s 331ms/step - loss: 2.7942e-04 - val_loss: 0.0015\n",
      "Epoch 5/100\n",
      "12/12 [==============================] - 4s 346ms/step - loss: 1.5856e-04 - val_loss: 0.0021\n",
      "Epoch 6/100\n",
      "12/12 [==============================] - 4s 337ms/step - loss: 1.1897e-04 - val_loss: 0.0014\n",
      "Epoch 7/100\n",
      "12/12 [==============================] - 4s 326ms/step - loss: 1.1441e-04 - val_loss: 0.0012\n",
      "Epoch 8/100\n",
      "12/12 [==============================] - 4s 338ms/step - loss: 1.1461e-04 - val_loss: 0.0013\n",
      "Epoch 9/100\n",
      "12/12 [==============================] - 4s 296ms/step - loss: 1.1348e-04 - val_loss: 0.0012\n",
      "Epoch 10/100\n",
      "12/12 [==============================] - 4s 338ms/step - loss: 1.1600e-04 - val_loss: 0.0014\n",
      "Epoch 11/100\n",
      "12/12 [==============================] - 4s 337ms/step - loss: 1.3711e-04 - val_loss: 0.0012\n",
      "Epoch 12/100\n",
      "12/12 [==============================] - 4s 328ms/step - loss: 1.2011e-04 - val_loss: 0.0011\n",
      "Epoch 13/100\n",
      "12/12 [==============================] - 4s 304ms/step - loss: 1.1598e-04 - val_loss: 0.0012\n",
      "Epoch 14/100\n",
      "12/12 [==============================] - 4s 308ms/step - loss: 1.1323e-04 - val_loss: 0.0013\n",
      "Epoch 15/100\n",
      "12/12 [==============================] - 4s 345ms/step - loss: 1.1241e-04 - val_loss: 0.0011\n",
      "Epoch 16/100\n",
      "12/12 [==============================] - 4s 313ms/step - loss: 1.1106e-04 - val_loss: 0.0012\n",
      "Epoch 17/100\n",
      "12/12 [==============================] - 4s 301ms/step - loss: 1.1495e-04 - val_loss: 0.0011\n",
      "Epoch 18/100\n",
      "12/12 [==============================] - 4s 340ms/step - loss: 1.1092e-04 - val_loss: 0.0014\n",
      "Epoch 19/100\n",
      "12/12 [==============================] - 4s 350ms/step - loss: 1.1267e-04 - val_loss: 0.0013\n",
      "Epoch 20/100\n",
      "12/12 [==============================] - 4s 301ms/step - loss: 1.0970e-04 - val_loss: 0.0012\n",
      "Epoch 21/100\n",
      "12/12 [==============================] - 4s 326ms/step - loss: 1.1292e-04 - val_loss: 0.0017\n",
      "Epoch 22/100\n",
      "12/12 [==============================] - 4s 316ms/step - loss: 1.1014e-04 - val_loss: 0.0014\n",
      "Epoch 23/100\n",
      "12/12 [==============================] - 4s 317ms/step - loss: 1.0625e-04 - val_loss: 0.0014\n",
      "Epoch 24/100\n",
      "12/12 [==============================] - 4s 323ms/step - loss: 1.1425e-04 - val_loss: 0.0020\n",
      "Epoch 25/100\n",
      "12/12 [==============================] - 4s 332ms/step - loss: 1.1485e-04 - val_loss: 0.0011\n",
      "Epoch 26/100\n",
      "12/12 [==============================] - 4s 330ms/step - loss: 1.1289e-04 - val_loss: 0.0016\n",
      "Epoch 27/100\n",
      "12/12 [==============================] - 4s 330ms/step - loss: 1.0906e-04 - val_loss: 0.0012\n",
      "Epoch 28/100\n",
      "12/12 [==============================] - 4s 331ms/step - loss: 1.0424e-04 - val_loss: 0.0013\n",
      "Epoch 29/100\n",
      "12/12 [==============================] - 4s 331ms/step - loss: 1.0842e-04 - val_loss: 0.0011\n",
      "Epoch 30/100\n",
      "12/12 [==============================] - 4s 337ms/step - loss: 1.0565e-04 - val_loss: 0.0016\n",
      "Epoch 31/100\n",
      "12/12 [==============================] - 2s 205ms/step - loss: 1.0389e-04 - val_loss: 0.0013\n",
      "Epoch 32/100\n",
      "12/12 [==============================] - 2s 139ms/step - loss: 1.0454e-04 - val_loss: 0.0010\n",
      "Epoch 33/100\n",
      "12/12 [==============================] - 2s 133ms/step - loss: 1.1176e-04 - val_loss: 0.0011\n",
      "Epoch 34/100\n",
      "12/12 [==============================] - 2s 136ms/step - loss: 1.0670e-04 - val_loss: 0.0012\n",
      "Epoch 35/100\n",
      "12/12 [==============================] - 2s 137ms/step - loss: 1.0591e-04 - val_loss: 0.0010\n",
      "Epoch 36/100\n",
      "12/12 [==============================] - 2s 136ms/step - loss: 1.2401e-04 - val_loss: 0.0015\n",
      "Epoch 37/100\n",
      "12/12 [==============================] - 23s 2s/step - loss: 1.0244e-04 - val_loss: 0.0015\n",
      "Epoch 38/100\n",
      "12/12 [==============================] - 5s 400ms/step - loss: 1.0235e-04 - val_loss: 0.0012\n",
      "Epoch 39/100\n",
      "12/12 [==============================] - 4s 351ms/step - loss: 1.0211e-04 - val_loss: 0.0010\n",
      "Epoch 40/100\n",
      "12/12 [==============================] - 4s 318ms/step - loss: 1.0547e-04 - val_loss: 0.0015\n",
      "Epoch 41/100\n",
      "12/12 [==============================] - 3s 292ms/step - loss: 1.0277e-04 - val_loss: 9.8788e-04\n",
      "Epoch 42/100\n",
      "12/12 [==============================] - 3s 274ms/step - loss: 1.0427e-04 - val_loss: 9.0852e-04\n",
      "Epoch 43/100\n",
      "12/12 [==============================] - 3s 242ms/step - loss: 1.0681e-04 - val_loss: 0.0017\n",
      "Epoch 44/100\n",
      "12/12 [==============================] - 3s 241ms/step - loss: 1.0143e-04 - val_loss: 0.0014\n",
      "Epoch 45/100\n",
      "12/12 [==============================] - 3s 233ms/step - loss: 1.0313e-04 - val_loss: 0.0012\n",
      "Epoch 46/100\n",
      "12/12 [==============================] - 3s 255ms/step - loss: 9.7882e-05 - val_loss: 0.0012\n",
      "Epoch 47/100\n",
      "12/12 [==============================] - 3s 290ms/step - loss: 1.0872e-04 - val_loss: 8.9632e-04\n",
      "Epoch 48/100\n",
      "12/12 [==============================] - 3s 251ms/step - loss: 1.1261e-04 - val_loss: 0.0017\n",
      "Epoch 49/100\n",
      "12/12 [==============================] - 4s 330ms/step - loss: 1.1569e-04 - val_loss: 0.0014\n",
      "Epoch 50/100\n",
      "12/12 [==============================] - 6s 518ms/step - loss: 1.0177e-04 - val_loss: 8.8379e-04\n",
      "Epoch 51/100\n",
      "12/12 [==============================] - 6s 470ms/step - loss: 1.0113e-04 - val_loss: 0.0011\n",
      "Epoch 52/100\n",
      "12/12 [==============================] - 5s 395ms/step - loss: 9.5500e-05 - val_loss: 0.0026\n",
      "Epoch 53/100\n",
      "12/12 [==============================] - 5s 377ms/step - loss: 1.2614e-04 - val_loss: 8.4567e-04\n",
      "Epoch 54/100\n",
      "12/12 [==============================] - 4s 302ms/step - loss: 1.0851e-04 - val_loss: 0.0016\n",
      "Epoch 55/100\n",
      "12/12 [==============================] - 3s 255ms/step - loss: 1.1907e-04 - val_loss: 0.0020\n",
      "Epoch 56/100\n",
      "12/12 [==============================] - 3s 217ms/step - loss: 1.2572e-04 - val_loss: 9.7244e-04\n",
      "Epoch 57/100\n",
      "12/12 [==============================] - 3s 217ms/step - loss: 1.0889e-04 - val_loss: 0.0020\n",
      "Epoch 58/100\n",
      "12/12 [==============================] - 3s 219ms/step - loss: 1.0144e-04 - val_loss: 8.4738e-04\n",
      "Epoch 59/100\n",
      "12/12 [==============================] - 3s 216ms/step - loss: 9.4508e-05 - val_loss: 0.0010\n",
      "Epoch 60/100\n",
      "12/12 [==============================] - 3s 219ms/step - loss: 9.4680e-05 - val_loss: 8.2427e-04\n",
      "Epoch 61/100\n",
      "12/12 [==============================] - 3s 231ms/step - loss: 9.7705e-05 - val_loss: 0.0015\n",
      "Epoch 62/100\n",
      "12/12 [==============================] - 3s 245ms/step - loss: 9.9741e-05 - val_loss: 9.1378e-04\n",
      "Epoch 63/100\n",
      "12/12 [==============================] - 4s 349ms/step - loss: 9.9233e-05 - val_loss: 0.0013\n",
      "Epoch 64/100\n",
      "12/12 [==============================] - 4s 311ms/step - loss: 9.8441e-05 - val_loss: 0.0012\n",
      "Epoch 65/100\n",
      "12/12 [==============================] - 3s 228ms/step - loss: 1.0101e-04 - val_loss: 8.3042e-04\n",
      "Epoch 66/100\n",
      "12/12 [==============================] - 3s 215ms/step - loss: 9.2123e-05 - val_loss: 0.0017\n",
      "Epoch 67/100\n",
      "12/12 [==============================] - 3s 241ms/step - loss: 9.3122e-05 - val_loss: 9.4872e-04\n",
      "Epoch 68/100\n",
      "12/12 [==============================] - 3s 270ms/step - loss: 9.2336e-05 - val_loss: 0.0014\n",
      "Epoch 69/100\n",
      "12/12 [==============================] - 3s 215ms/step - loss: 9.0980e-05 - val_loss: 0.0012\n",
      "Epoch 70/100\n",
      "12/12 [==============================] - 4s 331ms/step - loss: 9.0584e-05 - val_loss: 0.0013\n",
      "Epoch 71/100\n",
      "12/12 [==============================] - 3s 247ms/step - loss: 9.4479e-05 - val_loss: 8.3394e-04\n",
      "Epoch 72/100\n",
      "12/12 [==============================] - 3s 258ms/step - loss: 1.0079e-04 - val_loss: 7.6749e-04\n",
      "Epoch 73/100\n",
      "12/12 [==============================] - 4s 324ms/step - loss: 9.5659e-05 - val_loss: 0.0011\n",
      "Epoch 74/100\n",
      "12/12 [==============================] - 3s 223ms/step - loss: 9.5904e-05 - val_loss: 0.0015\n",
      "Epoch 75/100\n",
      "12/12 [==============================] - 3s 214ms/step - loss: 8.9632e-05 - val_loss: 8.9612e-04\n",
      "Epoch 76/100\n",
      "12/12 [==============================] - 3s 217ms/step - loss: 9.2129e-05 - val_loss: 0.0010\n",
      "Epoch 77/100\n",
      "12/12 [==============================] - 3s 222ms/step - loss: 9.7932e-05 - val_loss: 0.0019\n"
     ]
    },
    {
     "name": "stdout",
     "output_type": "stream",
     "text": [
      "Epoch 78/100\n",
      "12/12 [==============================] - 3s 218ms/step - loss: 9.8198e-05 - val_loss: 8.6191e-04\n",
      "Epoch 79/100\n",
      "12/12 [==============================] - 3s 217ms/step - loss: 9.3071e-05 - val_loss: 7.7828e-04\n",
      "Epoch 80/100\n",
      "12/12 [==============================] - 3s 217ms/step - loss: 8.5113e-05 - val_loss: 9.3060e-04\n",
      "Epoch 81/100\n",
      "12/12 [==============================] - 3s 216ms/step - loss: 8.5176e-05 - val_loss: 0.0014\n",
      "Epoch 82/100\n",
      "12/12 [==============================] - 3s 215ms/step - loss: 9.2656e-05 - val_loss: 0.0011\n",
      "Epoch 83/100\n",
      "12/12 [==============================] - 3s 213ms/step - loss: 9.8101e-05 - val_loss: 0.0015\n",
      "Epoch 84/100\n",
      "12/12 [==============================] - 3s 211ms/step - loss: 1.0396e-04 - val_loss: 6.8951e-04\n",
      "Epoch 85/100\n",
      "12/12 [==============================] - 3s 217ms/step - loss: 8.8293e-05 - val_loss: 7.3401e-04\n",
      "Epoch 86/100\n",
      "12/12 [==============================] - 3s 217ms/step - loss: 1.0561e-04 - val_loss: 8.6227e-04\n",
      "Epoch 87/100\n",
      "12/12 [==============================] - 3s 215ms/step - loss: 9.1963e-05 - val_loss: 0.0020\n",
      "Epoch 88/100\n",
      "12/12 [==============================] - 3s 210ms/step - loss: 1.1595e-04 - val_loss: 7.2571e-04\n",
      "Epoch 89/100\n",
      "12/12 [==============================] - 3s 213ms/step - loss: 1.0359e-04 - val_loss: 9.5686e-04\n",
      "Epoch 90/100\n",
      "12/12 [==============================] - 3s 212ms/step - loss: 8.4665e-05 - val_loss: 7.8301e-04\n",
      "Epoch 91/100\n",
      "12/12 [==============================] - 3s 237ms/step - loss: 8.6921e-05 - val_loss: 0.0011\n",
      "Epoch 92/100\n",
      "12/12 [==============================] - 3s 214ms/step - loss: 8.6287e-05 - val_loss: 9.9932e-04\n",
      "Epoch 93/100\n",
      "12/12 [==============================] - 3s 214ms/step - loss: 8.5058e-05 - val_loss: 7.1425e-04\n",
      "Epoch 94/100\n",
      "12/12 [==============================] - 3s 210ms/step - loss: 9.3649e-05 - val_loss: 8.1287e-04\n",
      "Epoch 95/100\n",
      "12/12 [==============================] - 3s 263ms/step - loss: 8.8093e-05 - val_loss: 8.0268e-04\n",
      "Epoch 96/100\n",
      "12/12 [==============================] - 3s 243ms/step - loss: 8.7950e-05 - val_loss: 6.8606e-04\n",
      "Epoch 97/100\n",
      "12/12 [==============================] - 3s 245ms/step - loss: 9.2244e-05 - val_loss: 0.0017\n",
      "Epoch 98/100\n",
      "12/12 [==============================] - 3s 210ms/step - loss: 8.5305e-05 - val_loss: 0.0011\n",
      "Epoch 99/100\n",
      "12/12 [==============================] - 3s 216ms/step - loss: 8.3992e-05 - val_loss: 7.8487e-04\n",
      "Epoch 100/100\n",
      "12/12 [==============================] - 3s 215ms/step - loss: 8.2727e-05 - val_loss: 0.0028\n"
     ]
    },
    {
     "data": {
      "text/plain": [
       "<tensorflow.python.keras.callbacks.History at 0x1f4eaac0df0>"
      ]
     },
     "execution_count": 27,
     "metadata": {},
     "output_type": "execute_result"
    }
   ],
   "source": [
    "model.fit(X_train,y_train, validation_data=(X_test,ytest), epochs=100, batch_size=64, verbose=1)"
   ]
  },
  {
   "cell_type": "code",
   "execution_count": 28,
   "id": "e72786ae",
   "metadata": {},
   "outputs": [],
   "source": [
    "import tensorflow as tf"
   ]
  },
  {
   "cell_type": "code",
   "execution_count": 29,
   "id": "fe560ce1",
   "metadata": {},
   "outputs": [
    {
     "data": {
      "text/plain": [
       "'2.3.0'"
      ]
     },
     "execution_count": 29,
     "metadata": {},
     "output_type": "execute_result"
    }
   ],
   "source": [
    "tf.__version__"
   ]
  },
  {
   "cell_type": "code",
   "execution_count": 30,
   "id": "38eb166d",
   "metadata": {},
   "outputs": [],
   "source": [
    "### Lets do prediction and check performance metrics\n",
    "train_predict = model.predict(X_train)\n",
    "test_predict = model.predict(X_test)"
   ]
  },
  {
   "cell_type": "code",
   "execution_count": 31,
   "id": "07c3619b",
   "metadata": {},
   "outputs": [],
   "source": [
    "###Transform back to original form\n",
    "train_predict = scaler.inverse_transform(train_predict)\n",
    "test_predict = scaler.inverse_transform(test_predict)"
   ]
  },
  {
   "cell_type": "code",
   "execution_count": 32,
   "id": "8ab8bc2e",
   "metadata": {},
   "outputs": [
    {
     "data": {
      "text/plain": [
       "110.76071104303674"
      ]
     },
     "execution_count": 32,
     "metadata": {},
     "output_type": "execute_result"
    }
   ],
   "source": [
    "### Calculate RMSE performance metrics\n",
    "import math\n",
    "from sklearn.metrics import mean_squared_error\n",
    "math.sqrt(mean_squared_error(y_train,train_predict))"
   ]
  },
  {
   "cell_type": "code",
   "execution_count": 33,
   "id": "a054281d",
   "metadata": {},
   "outputs": [
    {
     "data": {
      "text/plain": [
       "258.63685297014325"
      ]
     },
     "execution_count": 33,
     "metadata": {},
     "output_type": "execute_result"
    }
   ],
   "source": [
    "### Test data RMSE\n",
    "math.sqrt(mean_squared_error(ytest,test_predict))"
   ]
  },
  {
   "cell_type": "code",
   "execution_count": 39,
   "id": "a8d68883",
   "metadata": {},
   "outputs": [
    {
     "data": {
      "image/png": "[encoded data removed]",
      "text/plain": [
       "<Figure size 432x288 with 1 Axes>"
      ]
     },
     "metadata": {
      "needs_background": "light"
     },
     "output_type": "display_data"
    }
   ],
   "source": [
    "### Plotting\n",
    "# Shift train predictions for plotting\n",
    "look_back = 100\n",
    "trainPredictPlot = np.empty_like(df1)\n",
    "trainPredictPlot[:, :] = np.nan\n",
    "trainPredictPlot[look_back:len(train_predict)+look_back, :] = train_predict\n",
    "#shift test predictions for plotting\n",
    "testPredictPlot = np.empty_like(df1)\n",
    "testPredictPlot[:, :] = np.nan\n",
    "testPredictPlot[len(train_predict)+(look_back*2)+1:len(df1)-1, :] = test_predict\n",
    "# plot baseline and predictions\n",
    "plt.plot(scaler.inverse_transform(df1))\n",
    "plt.plot(trainPredictPlot)\n",
    "plt.plot(testPredictPlot)\n",
    "plt.show()"
   ]
  },
  {
   "cell_type": "code",
   "execution_count": 35,
   "id": "7fcad815",
   "metadata": {},
   "outputs": [
    {
     "name": "stdout",
     "output_type": "stream",
     "text": [
      "441\n",
      "340\n"
     ]
    }
   ],
   "source": [
    "print(len(test_data))\n",
    "\n",
    "#to predict next day must take previous 100 days of data,\n",
    "print(440-100)"
   ]
  },
  {
   "cell_type": "code",
   "execution_count": 40,
   "id": "33ea3bf2",
   "metadata": {},
   "outputs": [
    {
     "data": {
      "text/plain": [
       "(101, 1)"
      ]
     },
     "execution_count": 40,
     "metadata": {},
     "output_type": "execute_result"
    }
   ],
   "source": [
    "x_input = test_data[340:].reshape(-1,1)\n",
    "x_input.shape"
   ]
  },
  {
   "cell_type": "code",
   "execution_count": 41,
   "id": "ce352808",
   "metadata": {},
   "outputs": [],
   "source": [
    "temp_input = list(x_input)\n",
    "\n",
    "list1 = [list(x) for x in temp_input]\n",
    "\n",
    "t_inp=[]\n",
    "for x in list1:\n",
    "    for item in x:\n",
    "        t_inp.append(item)"
   ]
  },
  {
   "cell_type": "code",
   "execution_count": 42,
   "id": "178fb00d",
   "metadata": {},
   "outputs": [],
   "source": [
    "#returns the list below from the list of list above, i.e., we would call flatten(list1) above\n",
    "def flatten(t):\n",
    "    return [item for sublist in t for item in sublist]"
   ]
  },
  {
   "cell_type": "code",
   "execution_count": 43,
   "id": "d4c265b1",
   "metadata": {
    "collapsed": true
   },
   "outputs": [
    {
     "data": {
      "text/plain": [
       "[0.7264099487291371,\n",
       " 0.7336824115486709,\n",
       " 0.7281189774917276,\n",
       " 0.724555470710156,\n",
       " 0.7373550052725355,\n",
       " 0.7320097451001781,\n",
       " 0.7436456856114324,\n",
       " 0.754118032071561,\n",
       " 0.7532635176902658,\n",
       " 0.758408785135086,\n",
       " 0.7523362786807752,\n",
       " 0.7657903348969131,\n",
       " 0.775535435075088,\n",
       " 0.7737173193702047,\n",
       " 0.7762626813570417,\n",
       " 0.7982618813861313,\n",
       " 0.7982982437002291,\n",
       " 0.8065524890003999,\n",
       " 0.797425548161885,\n",
       " 0.7993163884949637,\n",
       " 0.7970619250209083,\n",
       " 0.8103705319806553,\n",
       " 0.8159339660375986,\n",
       " 0.8105523435511435,\n",
       " 0.8095341987564089,\n",
       " 0.7959346932838804,\n",
       " 0.8043343878404421,\n",
       " 0.8118977491727573,\n",
       " 0.8291334860550525,\n",
       " 0.8419693829315298,\n",
       " 0.8397149194574742,\n",
       " 0.8305879786189594,\n",
       " 0.829424384567834,\n",
       " 0.8304425293625686,\n",
       " 0.8246609214210392,\n",
       " 0.8243336605941602,\n",
       " 0.8326969928366241,\n",
       " 0.8304788916766663,\n",
       " 0.8414239482200647,\n",
       " 0.8412057743354786,\n",
       " 0.837096832842442,\n",
       " 0.8302243554779827,\n",
       " 0.8320788334969638,\n",
       " 0.8424784553288971,\n",
       " 0.8535325988145885,\n",
       " 0.8598960037816807,\n",
       " 0.8543689320388348,\n",
       " 0.8458237882258828,\n",
       " 0.8677866259408749,\n",
       " 0.8953856223410057,\n",
       " 0.8964401294498381,\n",
       " 0.8890585796880113,\n",
       " 0.8868404785280535,\n",
       " 0.876222682811534,\n",
       " 0.8785135085996874,\n",
       " 0.8925857241554851,\n",
       " 0.8863677684447837,\n",
       " 0.8861859568742954,\n",
       " 0.8837133195156539,\n",
       " 0.8836769572015561,\n",
       " 0.8801861750481801,\n",
       " 0.8802952619904729,\n",
       " 0.8695320170175629,\n",
       " 0.8639322206465219,\n",
       " 0.8685865968510236,\n",
       " 0.878768044798371,\n",
       " 0.8970582887894984,\n",
       " 0.8985127813534053,\n",
       " 0.8790589433111522,\n",
       " 0.8588051343587506,\n",
       " 0.8606232500636342,\n",
       " 0.874368204792553,\n",
       " 0.8779317115741245,\n",
       " 0.8771681029780736,\n",
       " 0.8583324242754808,\n",
       " 0.819606559761463,\n",
       " 0.8213519508381513,\n",
       " 0.8137885895058361,\n",
       " 0.8398967310279626,\n",
       " 0.8181157048834589,\n",
       " 0.8386604123486419,\n",
       " 0.8544780189811281,\n",
       " 0.8608050616341225,\n",
       " 0.8608050616341225,\n",
       " 0.858550598160067,\n",
       " 0.8536416857568816,\n",
       " 0.8661139594923821,\n",
       " 0.889531289771281,\n",
       " 0.8948401876295407,\n",
       " 0.9060397803716229,\n",
       " 0.9094578378968037,\n",
       " 0.9064761281407949,\n",
       " 0.918657503363514,\n",
       " 0.9128395331078871,\n",
       " 0.909094214755827,\n",
       " 0.9162939529471656,\n",
       " 0.9637831351587216,\n",
       " 0.9680738882222466,\n",
       " 0.994509290571252,\n",
       " 0.9863277698992763,\n",
       " 1.0]"
      ]
     },
     "execution_count": 43,
     "metadata": {},
     "output_type": "execute_result"
    }
   ],
   "source": [
    "t_inp"
   ]
  },
  {
   "cell_type": "code",
   "execution_count": 44,
   "id": "cbff9d9d",
   "metadata": {},
   "outputs": [
    {
     "name": "stdout",
     "output_type": "stream",
     "text": [
      "0 day input [0.73368241 0.72811898 0.72455547 0.73735501 0.73200975 0.74364569\n",
      " 0.75411803 0.75326352 0.75840879 0.75233628 0.76579033 0.77553544\n",
      " 0.77371732 0.77626268 0.79826188 0.79829824 0.80655249 0.79742555\n",
      " 0.79931639 0.79706193 0.81037053 0.81593397 0.81055234 0.8095342\n",
      " 0.79593469 0.80433439 0.81189775 0.82913349 0.84196938 0.83971492\n",
      " 0.83058798 0.82942438 0.83044253 0.82466092 0.82433366 0.83269699\n",
      " 0.83047889 0.84142395 0.84120577 0.83709683 0.83022436 0.83207883\n",
      " 0.84247846 0.8535326  0.859896   0.85436893 0.84582379 0.86778663\n",
      " 0.89538562 0.89644013 0.88905858 0.88684048 0.87622268 0.87851351\n",
      " 0.89258572 0.88636777 0.88618596 0.88371332 0.88367696 0.88018618\n",
      " 0.88029526 0.86953202 0.86393222 0.8685866  0.87876804 0.89705829\n",
      " 0.89851278 0.87905894 0.85880513 0.86062325 0.8743682  0.87793171\n",
      " 0.8771681  0.85833242 0.81960656 0.82135195 0.81378859 0.83989673\n",
      " 0.8181157  0.83866041 0.85447802 0.86080506 0.86080506 0.8585506\n",
      " 0.85364169 0.86611396 0.88953129 0.89484019 0.90603978 0.90945784\n",
      " 0.90647613 0.9186575  0.91283953 0.90909421 0.91629395 0.96378314\n",
      " 0.96807389 0.99450929 0.98632777 1.        ]\n",
      "0 day output [[1.027637]]\n",
      "1 day input [0.72811898 0.72455547 0.73735501 0.73200975 0.74364569 0.75411803\n",
      " 0.75326352 0.75840879 0.75233628 0.76579033 0.77553544 0.77371732\n",
      " 0.77626268 0.79826188 0.79829824 0.80655249 0.79742555 0.79931639\n",
      " 0.79706193 0.81037053 0.81593397 0.81055234 0.8095342  0.79593469\n",
      " 0.80433439 0.81189775 0.82913349 0.84196938 0.83971492 0.83058798\n",
      " 0.82942438 0.83044253 0.82466092 0.82433366 0.83269699 0.83047889\n",
      " 0.84142395 0.84120577 0.83709683 0.83022436 0.83207883 0.84247846\n",
      " 0.8535326  0.859896   0.85436893 0.84582379 0.86778663 0.89538562\n",
      " 0.89644013 0.88905858 0.88684048 0.87622268 0.87851351 0.89258572\n",
      " 0.88636777 0.88618596 0.88371332 0.88367696 0.88018618 0.88029526\n",
      " 0.86953202 0.86393222 0.8685866  0.87876804 0.89705829 0.89851278\n",
      " 0.87905894 0.85880513 0.86062325 0.8743682  0.87793171 0.8771681\n",
      " 0.85833242 0.81960656 0.82135195 0.81378859 0.83989673 0.8181157\n",
      " 0.83866041 0.85447802 0.86080506 0.86080506 0.8585506  0.85364169\n",
      " 0.86611396 0.88953129 0.89484019 0.90603978 0.90945784 0.90647613\n",
      " 0.9186575  0.91283953 0.90909421 0.91629395 0.96378314 0.96807389\n",
      " 0.99450929 0.98632777 1.         1.027637  ]\n",
      "1 day output [[1.0406045]]\n",
      "2 day input [0.72455547 0.73735501 0.73200975 0.74364569 0.75411803 0.75326352\n",
      " 0.75840879 0.75233628 0.76579033 0.77553544 0.77371732 0.77626268\n",
      " 0.79826188 0.79829824 0.80655249 0.79742555 0.79931639 0.79706193\n",
      " 0.81037053 0.81593397 0.81055234 0.8095342  0.79593469 0.80433439\n",
      " 0.81189775 0.82913349 0.84196938 0.83971492 0.83058798 0.82942438\n",
      " 0.83044253 0.82466092 0.82433366 0.83269699 0.83047889 0.84142395\n",
      " 0.84120577 0.83709683 0.83022436 0.83207883 0.84247846 0.8535326\n",
      " 0.859896   0.85436893 0.84582379 0.86778663 0.89538562 0.89644013\n",
      " 0.88905858 0.88684048 0.87622268 0.87851351 0.89258572 0.88636777\n",
      " 0.88618596 0.88371332 0.88367696 0.88018618 0.88029526 0.86953202\n",
      " 0.86393222 0.8685866  0.87876804 0.89705829 0.89851278 0.87905894\n",
      " 0.85880513 0.86062325 0.8743682  0.87793171 0.8771681  0.85833242\n",
      " 0.81960656 0.82135195 0.81378859 0.83989673 0.8181157  0.83866041\n",
      " 0.85447802 0.86080506 0.86080506 0.8585506  0.85364169 0.86611396\n",
      " 0.88953129 0.89484019 0.90603978 0.90945784 0.90647613 0.9186575\n",
      " 0.91283953 0.90909421 0.91629395 0.96378314 0.96807389 0.99450929\n",
      " 0.98632777 1.         1.027637   1.04060447]\n",
      "2 day output [[1.054632]]\n",
      "3 day input [0.73735501 0.73200975 0.74364569 0.75411803 0.75326352 0.75840879\n",
      " 0.75233628 0.76579033 0.77553544 0.77371732 0.77626268 0.79826188\n",
      " 0.79829824 0.80655249 0.79742555 0.79931639 0.79706193 0.81037053\n",
      " 0.81593397 0.81055234 0.8095342  0.79593469 0.80433439 0.81189775\n",
      " 0.82913349 0.84196938 0.83971492 0.83058798 0.82942438 0.83044253\n",
      " 0.82466092 0.82433366 0.83269699 0.83047889 0.84142395 0.84120577\n",
      " 0.83709683 0.83022436 0.83207883 0.84247846 0.8535326  0.859896\n",
      " 0.85436893 0.84582379 0.86778663 0.89538562 0.89644013 0.88905858\n",
      " 0.88684048 0.87622268 0.87851351 0.89258572 0.88636777 0.88618596\n",
      " 0.88371332 0.88367696 0.88018618 0.88029526 0.86953202 0.86393222\n",
      " 0.8685866  0.87876804 0.89705829 0.89851278 0.87905894 0.85880513\n",
      " 0.86062325 0.8743682  0.87793171 0.8771681  0.85833242 0.81960656\n",
      " 0.82135195 0.81378859 0.83989673 0.8181157  0.83866041 0.85447802\n",
      " 0.86080506 0.86080506 0.8585506  0.85364169 0.86611396 0.88953129\n",
      " 0.89484019 0.90603978 0.90945784 0.90647613 0.9186575  0.91283953\n",
      " 0.90909421 0.91629395 0.96378314 0.96807389 0.99450929 0.98632777\n",
      " 1.         1.027637   1.04060447 1.05463195]\n",
      "3 day output [[1.0695133]]\n",
      "4 day input [0.73200975 0.74364569 0.75411803 0.75326352 0.75840879 0.75233628\n",
      " 0.76579033 0.77553544 0.77371732 0.77626268 0.79826188 0.79829824\n",
      " 0.80655249 0.79742555 0.79931639 0.79706193 0.81037053 0.81593397\n",
      " 0.81055234 0.8095342  0.79593469 0.80433439 0.81189775 0.82913349\n",
      " 0.84196938 0.83971492 0.83058798 0.82942438 0.83044253 0.82466092\n",
      " 0.82433366 0.83269699 0.83047889 0.84142395 0.84120577 0.83709683\n",
      " 0.83022436 0.83207883 0.84247846 0.8535326  0.859896   0.85436893\n",
      " 0.84582379 0.86778663 0.89538562 0.89644013 0.88905858 0.88684048\n",
      " 0.87622268 0.87851351 0.89258572 0.88636777 0.88618596 0.88371332\n",
      " 0.88367696 0.88018618 0.88029526 0.86953202 0.86393222 0.8685866\n",
      " 0.87876804 0.89705829 0.89851278 0.87905894 0.85880513 0.86062325\n",
      " 0.8743682  0.87793171 0.8771681  0.85833242 0.81960656 0.82135195\n",
      " 0.81378859 0.83989673 0.8181157  0.83866041 0.85447802 0.86080506\n",
      " 0.86080506 0.8585506  0.85364169 0.86611396 0.88953129 0.89484019\n",
      " 0.90603978 0.90945784 0.90647613 0.9186575  0.91283953 0.90909421\n",
      " 0.91629395 0.96378314 0.96807389 0.99450929 0.98632777 1.\n",
      " 1.027637   1.04060447 1.05463195 1.06951332]\n",
      "4 day output [[1.0850396]]\n",
      "5 day input [0.74364569 0.75411803 0.75326352 0.75840879 0.75233628 0.76579033\n",
      " 0.77553544 0.77371732 0.77626268 0.79826188 0.79829824 0.80655249\n",
      " 0.79742555 0.79931639 0.79706193 0.81037053 0.81593397 0.81055234\n",
      " 0.8095342  0.79593469 0.80433439 0.81189775 0.82913349 0.84196938\n",
      " 0.83971492 0.83058798 0.82942438 0.83044253 0.82466092 0.82433366\n",
      " 0.83269699 0.83047889 0.84142395 0.84120577 0.83709683 0.83022436\n",
      " 0.83207883 0.84247846 0.8535326  0.859896   0.85436893 0.84582379\n",
      " 0.86778663 0.89538562 0.89644013 0.88905858 0.88684048 0.87622268\n",
      " 0.87851351 0.89258572 0.88636777 0.88618596 0.88371332 0.88367696\n",
      " 0.88018618 0.88029526 0.86953202 0.86393222 0.8685866  0.87876804\n",
      " 0.89705829 0.89851278 0.87905894 0.85880513 0.86062325 0.8743682\n",
      " 0.87793171 0.8771681  0.85833242 0.81960656 0.82135195 0.81378859\n",
      " 0.83989673 0.8181157  0.83866041 0.85447802 0.86080506 0.86080506\n",
      " 0.8585506  0.85364169 0.86611396 0.88953129 0.89484019 0.90603978\n",
      " 0.90945784 0.90647613 0.9186575  0.91283953 0.90909421 0.91629395\n",
      " 0.96378314 0.96807389 0.99450929 0.98632777 1.         1.027637\n",
      " 1.04060447 1.05463195 1.06951332 1.08503962]\n",
      "5 day output [[1.1010312]]\n",
      "6 day input [0.75411803 0.75326352 0.75840879 0.75233628 0.76579033 0.77553544\n",
      " 0.77371732 0.77626268 0.79826188 0.79829824 0.80655249 0.79742555\n",
      " 0.79931639 0.79706193 0.81037053 0.81593397 0.81055234 0.8095342\n",
      " 0.79593469 0.80433439 0.81189775 0.82913349 0.84196938 0.83971492\n",
      " 0.83058798 0.82942438 0.83044253 0.82466092 0.82433366 0.83269699\n",
      " 0.83047889 0.84142395 0.84120577 0.83709683 0.83022436 0.83207883\n",
      " 0.84247846 0.8535326  0.859896   0.85436893 0.84582379 0.86778663\n",
      " 0.89538562 0.89644013 0.88905858 0.88684048 0.87622268 0.87851351\n",
      " 0.89258572 0.88636777 0.88618596 0.88371332 0.88367696 0.88018618\n",
      " 0.88029526 0.86953202 0.86393222 0.8685866  0.87876804 0.89705829\n",
      " 0.89851278 0.87905894 0.85880513 0.86062325 0.8743682  0.87793171\n",
      " 0.8771681  0.85833242 0.81960656 0.82135195 0.81378859 0.83989673\n",
      " 0.8181157  0.83866041 0.85447802 0.86080506 0.86080506 0.8585506\n",
      " 0.85364169 0.86611396 0.88953129 0.89484019 0.90603978 0.90945784\n",
      " 0.90647613 0.9186575  0.91283953 0.90909421 0.91629395 0.96378314\n",
      " 0.96807389 0.99450929 0.98632777 1.         1.027637   1.04060447\n",
      " 1.05463195 1.06951332 1.08503962 1.10103118]\n",
      "6 day output [[1.11735]]\n",
      "7 day input [0.75326352 0.75840879 0.75233628 0.76579033 0.77553544 0.77371732\n",
      " 0.77626268 0.79826188 0.79829824 0.80655249 0.79742555 0.79931639\n",
      " 0.79706193 0.81037053 0.81593397 0.81055234 0.8095342  0.79593469\n",
      " 0.80433439 0.81189775 0.82913349 0.84196938 0.83971492 0.83058798\n",
      " 0.82942438 0.83044253 0.82466092 0.82433366 0.83269699 0.83047889\n",
      " 0.84142395 0.84120577 0.83709683 0.83022436 0.83207883 0.84247846\n",
      " 0.8535326  0.859896   0.85436893 0.84582379 0.86778663 0.89538562\n",
      " 0.89644013 0.88905858 0.88684048 0.87622268 0.87851351 0.89258572\n",
      " 0.88636777 0.88618596 0.88371332 0.88367696 0.88018618 0.88029526\n",
      " 0.86953202 0.86393222 0.8685866  0.87876804 0.89705829 0.89851278\n",
      " 0.87905894 0.85880513 0.86062325 0.8743682  0.87793171 0.8771681\n",
      " 0.85833242 0.81960656 0.82135195 0.81378859 0.83989673 0.8181157\n",
      " 0.83866041 0.85447802 0.86080506 0.86080506 0.8585506  0.85364169\n",
      " 0.86611396 0.88953129 0.89484019 0.90603978 0.90945784 0.90647613\n",
      " 0.9186575  0.91283953 0.90909421 0.91629395 0.96378314 0.96807389\n",
      " 0.99450929 0.98632777 1.         1.027637   1.04060447 1.05463195\n",
      " 1.06951332 1.08503962 1.10103118 1.11734998]\n"
     ]
    },
    {
     "name": "stdout",
     "output_type": "stream",
     "text": [
      "7 day output [[1.1338938]]\n",
      "8 day input [0.75840879 0.75233628 0.76579033 0.77553544 0.77371732 0.77626268\n",
      " 0.79826188 0.79829824 0.80655249 0.79742555 0.79931639 0.79706193\n",
      " 0.81037053 0.81593397 0.81055234 0.8095342  0.79593469 0.80433439\n",
      " 0.81189775 0.82913349 0.84196938 0.83971492 0.83058798 0.82942438\n",
      " 0.83044253 0.82466092 0.82433366 0.83269699 0.83047889 0.84142395\n",
      " 0.84120577 0.83709683 0.83022436 0.83207883 0.84247846 0.8535326\n",
      " 0.859896   0.85436893 0.84582379 0.86778663 0.89538562 0.89644013\n",
      " 0.88905858 0.88684048 0.87622268 0.87851351 0.89258572 0.88636777\n",
      " 0.88618596 0.88371332 0.88367696 0.88018618 0.88029526 0.86953202\n",
      " 0.86393222 0.8685866  0.87876804 0.89705829 0.89851278 0.87905894\n",
      " 0.85880513 0.86062325 0.8743682  0.87793171 0.8771681  0.85833242\n",
      " 0.81960656 0.82135195 0.81378859 0.83989673 0.8181157  0.83866041\n",
      " 0.85447802 0.86080506 0.86080506 0.8585506  0.85364169 0.86611396\n",
      " 0.88953129 0.89484019 0.90603978 0.90945784 0.90647613 0.9186575\n",
      " 0.91283953 0.90909421 0.91629395 0.96378314 0.96807389 0.99450929\n",
      " 0.98632777 1.         1.027637   1.04060447 1.05463195 1.06951332\n",
      " 1.08503962 1.10103118 1.11734998 1.13389385]\n",
      "8 day output [[1.1505892]]\n",
      "9 day input [0.75233628 0.76579033 0.77553544 0.77371732 0.77626268 0.79826188\n",
      " 0.79829824 0.80655249 0.79742555 0.79931639 0.79706193 0.81037053\n",
      " 0.81593397 0.81055234 0.8095342  0.79593469 0.80433439 0.81189775\n",
      " 0.82913349 0.84196938 0.83971492 0.83058798 0.82942438 0.83044253\n",
      " 0.82466092 0.82433366 0.83269699 0.83047889 0.84142395 0.84120577\n",
      " 0.83709683 0.83022436 0.83207883 0.84247846 0.8535326  0.859896\n",
      " 0.85436893 0.84582379 0.86778663 0.89538562 0.89644013 0.88905858\n",
      " 0.88684048 0.87622268 0.87851351 0.89258572 0.88636777 0.88618596\n",
      " 0.88371332 0.88367696 0.88018618 0.88029526 0.86953202 0.86393222\n",
      " 0.8685866  0.87876804 0.89705829 0.89851278 0.87905894 0.85880513\n",
      " 0.86062325 0.8743682  0.87793171 0.8771681  0.85833242 0.81960656\n",
      " 0.82135195 0.81378859 0.83989673 0.8181157  0.83866041 0.85447802\n",
      " 0.86080506 0.86080506 0.8585506  0.85364169 0.86611396 0.88953129\n",
      " 0.89484019 0.90603978 0.90945784 0.90647613 0.9186575  0.91283953\n",
      " 0.90909421 0.91629395 0.96378314 0.96807389 0.99450929 0.98632777\n",
      " 1.         1.027637   1.04060447 1.05463195 1.06951332 1.08503962\n",
      " 1.10103118 1.11734998 1.13389385 1.15058923]\n",
      "9 day output [[1.167383]]\n",
      "10 day input [0.76579033 0.77553544 0.77371732 0.77626268 0.79826188 0.79829824\n",
      " 0.80655249 0.79742555 0.79931639 0.79706193 0.81037053 0.81593397\n",
      " 0.81055234 0.8095342  0.79593469 0.80433439 0.81189775 0.82913349\n",
      " 0.84196938 0.83971492 0.83058798 0.82942438 0.83044253 0.82466092\n",
      " 0.82433366 0.83269699 0.83047889 0.84142395 0.84120577 0.83709683\n",
      " 0.83022436 0.83207883 0.84247846 0.8535326  0.859896   0.85436893\n",
      " 0.84582379 0.86778663 0.89538562 0.89644013 0.88905858 0.88684048\n",
      " 0.87622268 0.87851351 0.89258572 0.88636777 0.88618596 0.88371332\n",
      " 0.88367696 0.88018618 0.88029526 0.86953202 0.86393222 0.8685866\n",
      " 0.87876804 0.89705829 0.89851278 0.87905894 0.85880513 0.86062325\n",
      " 0.8743682  0.87793171 0.8771681  0.85833242 0.81960656 0.82135195\n",
      " 0.81378859 0.83989673 0.8181157  0.83866041 0.85447802 0.86080506\n",
      " 0.86080506 0.8585506  0.85364169 0.86611396 0.88953129 0.89484019\n",
      " 0.90603978 0.90945784 0.90647613 0.9186575  0.91283953 0.90909421\n",
      " 0.91629395 0.96378314 0.96807389 0.99450929 0.98632777 1.\n",
      " 1.027637   1.04060447 1.05463195 1.06951332 1.08503962 1.10103118\n",
      " 1.11734998 1.13389385 1.15058923 1.16738296]\n",
      "10 day output [[1.1842344]]\n",
      "11 day input [0.77553544 0.77371732 0.77626268 0.79826188 0.79829824 0.80655249\n",
      " 0.79742555 0.79931639 0.79706193 0.81037053 0.81593397 0.81055234\n",
      " 0.8095342  0.79593469 0.80433439 0.81189775 0.82913349 0.84196938\n",
      " 0.83971492 0.83058798 0.82942438 0.83044253 0.82466092 0.82433366\n",
      " 0.83269699 0.83047889 0.84142395 0.84120577 0.83709683 0.83022436\n",
      " 0.83207883 0.84247846 0.8535326  0.859896   0.85436893 0.84582379\n",
      " 0.86778663 0.89538562 0.89644013 0.88905858 0.88684048 0.87622268\n",
      " 0.87851351 0.89258572 0.88636777 0.88618596 0.88371332 0.88367696\n",
      " 0.88018618 0.88029526 0.86953202 0.86393222 0.8685866  0.87876804\n",
      " 0.89705829 0.89851278 0.87905894 0.85880513 0.86062325 0.8743682\n",
      " 0.87793171 0.8771681  0.85833242 0.81960656 0.82135195 0.81378859\n",
      " 0.83989673 0.8181157  0.83866041 0.85447802 0.86080506 0.86080506\n",
      " 0.8585506  0.85364169 0.86611396 0.88953129 0.89484019 0.90603978\n",
      " 0.90945784 0.90647613 0.9186575  0.91283953 0.90909421 0.91629395\n",
      " 0.96378314 0.96807389 0.99450929 0.98632777 1.         1.027637\n",
      " 1.04060447 1.05463195 1.06951332 1.08503962 1.10103118 1.11734998\n",
      " 1.13389385 1.15058923 1.16738296 1.18423438]\n",
      "11 day output [[1.2011105]]\n",
      "12 day input [0.77371732 0.77626268 0.79826188 0.79829824 0.80655249 0.79742555\n",
      " 0.79931639 0.79706193 0.81037053 0.81593397 0.81055234 0.8095342\n",
      " 0.79593469 0.80433439 0.81189775 0.82913349 0.84196938 0.83971492\n",
      " 0.83058798 0.82942438 0.83044253 0.82466092 0.82433366 0.83269699\n",
      " 0.83047889 0.84142395 0.84120577 0.83709683 0.83022436 0.83207883\n",
      " 0.84247846 0.8535326  0.859896   0.85436893 0.84582379 0.86778663\n",
      " 0.89538562 0.89644013 0.88905858 0.88684048 0.87622268 0.87851351\n",
      " 0.89258572 0.88636777 0.88618596 0.88371332 0.88367696 0.88018618\n",
      " 0.88029526 0.86953202 0.86393222 0.8685866  0.87876804 0.89705829\n",
      " 0.89851278 0.87905894 0.85880513 0.86062325 0.8743682  0.87793171\n",
      " 0.8771681  0.85833242 0.81960656 0.82135195 0.81378859 0.83989673\n",
      " 0.8181157  0.83866041 0.85447802 0.86080506 0.86080506 0.8585506\n",
      " 0.85364169 0.86611396 0.88953129 0.89484019 0.90603978 0.90945784\n",
      " 0.90647613 0.9186575  0.91283953 0.90909421 0.91629395 0.96378314\n",
      " 0.96807389 0.99450929 0.98632777 1.         1.027637   1.04060447\n",
      " 1.05463195 1.06951332 1.08503962 1.10103118 1.11734998 1.13389385\n",
      " 1.15058923 1.16738296 1.18423438 1.20111048]\n",
      "12 day output [[1.2179807]]\n",
      "13 day input [0.77626268 0.79826188 0.79829824 0.80655249 0.79742555 0.79931639\n",
      " 0.79706193 0.81037053 0.81593397 0.81055234 0.8095342  0.79593469\n",
      " 0.80433439 0.81189775 0.82913349 0.84196938 0.83971492 0.83058798\n",
      " 0.82942438 0.83044253 0.82466092 0.82433366 0.83269699 0.83047889\n",
      " 0.84142395 0.84120577 0.83709683 0.83022436 0.83207883 0.84247846\n",
      " 0.8535326  0.859896   0.85436893 0.84582379 0.86778663 0.89538562\n",
      " 0.89644013 0.88905858 0.88684048 0.87622268 0.87851351 0.89258572\n",
      " 0.88636777 0.88618596 0.88371332 0.88367696 0.88018618 0.88029526\n",
      " 0.86953202 0.86393222 0.8685866  0.87876804 0.89705829 0.89851278\n",
      " 0.87905894 0.85880513 0.86062325 0.8743682  0.87793171 0.8771681\n",
      " 0.85833242 0.81960656 0.82135195 0.81378859 0.83989673 0.8181157\n",
      " 0.83866041 0.85447802 0.86080506 0.86080506 0.8585506  0.85364169\n",
      " 0.86611396 0.88953129 0.89484019 0.90603978 0.90945784 0.90647613\n",
      " 0.9186575  0.91283953 0.90909421 0.91629395 0.96378314 0.96807389\n",
      " 0.99450929 0.98632777 1.         1.027637   1.04060447 1.05463195\n",
      " 1.06951332 1.08503962 1.10103118 1.11734998 1.13389385 1.15058923\n",
      " 1.16738296 1.18423438 1.20111048 1.21798074]\n",
      "13 day output [[1.2348173]]\n",
      "14 day input [0.79826188 0.79829824 0.80655249 0.79742555 0.79931639 0.79706193\n",
      " 0.81037053 0.81593397 0.81055234 0.8095342  0.79593469 0.80433439\n",
      " 0.81189775 0.82913349 0.84196938 0.83971492 0.83058798 0.82942438\n",
      " 0.83044253 0.82466092 0.82433366 0.83269699 0.83047889 0.84142395\n",
      " 0.84120577 0.83709683 0.83022436 0.83207883 0.84247846 0.8535326\n",
      " 0.859896   0.85436893 0.84582379 0.86778663 0.89538562 0.89644013\n",
      " 0.88905858 0.88684048 0.87622268 0.87851351 0.89258572 0.88636777\n",
      " 0.88618596 0.88371332 0.88367696 0.88018618 0.88029526 0.86953202\n",
      " 0.86393222 0.8685866  0.87876804 0.89705829 0.89851278 0.87905894\n",
      " 0.85880513 0.86062325 0.8743682  0.87793171 0.8771681  0.85833242\n",
      " 0.81960656 0.82135195 0.81378859 0.83989673 0.8181157  0.83866041\n",
      " 0.85447802 0.86080506 0.86080506 0.8585506  0.85364169 0.86611396\n",
      " 0.88953129 0.89484019 0.90603978 0.90945784 0.90647613 0.9186575\n",
      " 0.91283953 0.90909421 0.91629395 0.96378314 0.96807389 0.99450929\n",
      " 0.98632777 1.         1.027637   1.04060447 1.05463195 1.06951332\n",
      " 1.08503962 1.10103118 1.11734998 1.13389385 1.15058923 1.16738296\n",
      " 1.18423438 1.20111048 1.21798074 1.23481727]\n",
      "14 day output [[1.2515924]]\n",
      "15 day input [0.79829824 0.80655249 0.79742555 0.79931639 0.79706193 0.81037053\n",
      " 0.81593397 0.81055234 0.8095342  0.79593469 0.80433439 0.81189775\n",
      " 0.82913349 0.84196938 0.83971492 0.83058798 0.82942438 0.83044253\n",
      " 0.82466092 0.82433366 0.83269699 0.83047889 0.84142395 0.84120577\n",
      " 0.83709683 0.83022436 0.83207883 0.84247846 0.8535326  0.859896\n",
      " 0.85436893 0.84582379 0.86778663 0.89538562 0.89644013 0.88905858\n",
      " 0.88684048 0.87622268 0.87851351 0.89258572 0.88636777 0.88618596\n",
      " 0.88371332 0.88367696 0.88018618 0.88029526 0.86953202 0.86393222\n",
      " 0.8685866  0.87876804 0.89705829 0.89851278 0.87905894 0.85880513\n",
      " 0.86062325 0.8743682  0.87793171 0.8771681  0.85833242 0.81960656\n",
      " 0.82135195 0.81378859 0.83989673 0.8181157  0.83866041 0.85447802\n",
      " 0.86080506 0.86080506 0.8585506  0.85364169 0.86611396 0.88953129\n",
      " 0.89484019 0.90603978 0.90945784 0.90647613 0.9186575  0.91283953\n",
      " 0.90909421 0.91629395 0.96378314 0.96807389 0.99450929 0.98632777\n",
      " 1.         1.027637   1.04060447 1.05463195 1.06951332 1.08503962\n",
      " 1.10103118 1.11734998 1.13389385 1.15058923 1.16738296 1.18423438\n",
      " 1.20111048 1.21798074 1.23481727 1.2515924 ]\n",
      "15 day output [[1.268279]]\n",
      "16 day input [0.80655249 0.79742555 0.79931639 0.79706193 0.81037053 0.81593397\n",
      " 0.81055234 0.8095342  0.79593469 0.80433439 0.81189775 0.82913349\n",
      " 0.84196938 0.83971492 0.83058798 0.82942438 0.83044253 0.82466092\n",
      " 0.82433366 0.83269699 0.83047889 0.84142395 0.84120577 0.83709683\n",
      " 0.83022436 0.83207883 0.84247846 0.8535326  0.859896   0.85436893\n",
      " 0.84582379 0.86778663 0.89538562 0.89644013 0.88905858 0.88684048\n",
      " 0.87622268 0.87851351 0.89258572 0.88636777 0.88618596 0.88371332\n",
      " 0.88367696 0.88018618 0.88029526 0.86953202 0.86393222 0.8685866\n",
      " 0.87876804 0.89705829 0.89851278 0.87905894 0.85880513 0.86062325\n",
      " 0.8743682  0.87793171 0.8771681  0.85833242 0.81960656 0.82135195\n",
      " 0.81378859 0.83989673 0.8181157  0.83866041 0.85447802 0.86080506\n",
      " 0.86080506 0.8585506  0.85364169 0.86611396 0.88953129 0.89484019\n",
      " 0.90603978 0.90945784 0.90647613 0.9186575  0.91283953 0.90909421\n",
      " 0.91629395 0.96378314 0.96807389 0.99450929 0.98632777 1.\n",
      " 1.027637   1.04060447 1.05463195 1.06951332 1.08503962 1.10103118\n",
      " 1.11734998 1.13389385 1.15058923 1.16738296 1.18423438 1.20111048\n",
      " 1.21798074 1.23481727 1.2515924  1.26827896]\n",
      "16 day output [[1.28485]]\n",
      "17 day input [0.79742555 0.79931639 0.79706193 0.81037053 0.81593397 0.81055234\n",
      " 0.8095342  0.79593469 0.80433439 0.81189775 0.82913349 0.84196938\n",
      " 0.83971492 0.83058798 0.82942438 0.83044253 0.82466092 0.82433366\n",
      " 0.83269699 0.83047889 0.84142395 0.84120577 0.83709683 0.83022436\n",
      " 0.83207883 0.84247846 0.8535326  0.859896   0.85436893 0.84582379\n",
      " 0.86778663 0.89538562 0.89644013 0.88905858 0.88684048 0.87622268\n",
      " 0.87851351 0.89258572 0.88636777 0.88618596 0.88371332 0.88367696\n",
      " 0.88018618 0.88029526 0.86953202 0.86393222 0.8685866  0.87876804\n",
      " 0.89705829 0.89851278 0.87905894 0.85880513 0.86062325 0.8743682\n",
      " 0.87793171 0.8771681  0.85833242 0.81960656 0.82135195 0.81378859\n",
      " 0.83989673 0.8181157  0.83866041 0.85447802 0.86080506 0.86080506\n",
      " 0.8585506  0.85364169 0.86611396 0.88953129 0.89484019 0.90603978\n",
      " 0.90945784 0.90647613 0.9186575  0.91283953 0.90909421 0.91629395\n",
      " 0.96378314 0.96807389 0.99450929 0.98632777 1.         1.027637\n",
      " 1.04060447 1.05463195 1.06951332 1.08503962 1.10103118 1.11734998\n",
      " 1.13389385 1.15058923 1.16738296 1.18423438 1.20111048 1.21798074\n",
      " 1.23481727 1.2515924  1.26827896 1.28485   ]\n"
     ]
    },
    {
     "name": "stdout",
     "output_type": "stream",
     "text": [
      "17 day output [[1.3012781]]\n",
      "18 day input [0.79931639 0.79706193 0.81037053 0.81593397 0.81055234 0.8095342\n",
      " 0.79593469 0.80433439 0.81189775 0.82913349 0.84196938 0.83971492\n",
      " 0.83058798 0.82942438 0.83044253 0.82466092 0.82433366 0.83269699\n",
      " 0.83047889 0.84142395 0.84120577 0.83709683 0.83022436 0.83207883\n",
      " 0.84247846 0.8535326  0.859896   0.85436893 0.84582379 0.86778663\n",
      " 0.89538562 0.89644013 0.88905858 0.88684048 0.87622268 0.87851351\n",
      " 0.89258572 0.88636777 0.88618596 0.88371332 0.88367696 0.88018618\n",
      " 0.88029526 0.86953202 0.86393222 0.8685866  0.87876804 0.89705829\n",
      " 0.89851278 0.87905894 0.85880513 0.86062325 0.8743682  0.87793171\n",
      " 0.8771681  0.85833242 0.81960656 0.82135195 0.81378859 0.83989673\n",
      " 0.8181157  0.83866041 0.85447802 0.86080506 0.86080506 0.8585506\n",
      " 0.85364169 0.86611396 0.88953129 0.89484019 0.90603978 0.90945784\n",
      " 0.90647613 0.9186575  0.91283953 0.90909421 0.91629395 0.96378314\n",
      " 0.96807389 0.99450929 0.98632777 1.         1.027637   1.04060447\n",
      " 1.05463195 1.06951332 1.08503962 1.10103118 1.11734998 1.13389385\n",
      " 1.15058923 1.16738296 1.18423438 1.20111048 1.21798074 1.23481727\n",
      " 1.2515924  1.26827896 1.28485    1.30127811]\n",
      "18 day output [[1.3175378]]\n",
      "19 day input [0.79706193 0.81037053 0.81593397 0.81055234 0.8095342  0.79593469\n",
      " 0.80433439 0.81189775 0.82913349 0.84196938 0.83971492 0.83058798\n",
      " 0.82942438 0.83044253 0.82466092 0.82433366 0.83269699 0.83047889\n",
      " 0.84142395 0.84120577 0.83709683 0.83022436 0.83207883 0.84247846\n",
      " 0.8535326  0.859896   0.85436893 0.84582379 0.86778663 0.89538562\n",
      " 0.89644013 0.88905858 0.88684048 0.87622268 0.87851351 0.89258572\n",
      " 0.88636777 0.88618596 0.88371332 0.88367696 0.88018618 0.88029526\n",
      " 0.86953202 0.86393222 0.8685866  0.87876804 0.89705829 0.89851278\n",
      " 0.87905894 0.85880513 0.86062325 0.8743682  0.87793171 0.8771681\n",
      " 0.85833242 0.81960656 0.82135195 0.81378859 0.83989673 0.8181157\n",
      " 0.83866041 0.85447802 0.86080506 0.86080506 0.8585506  0.85364169\n",
      " 0.86611396 0.88953129 0.89484019 0.90603978 0.90945784 0.90647613\n",
      " 0.9186575  0.91283953 0.90909421 0.91629395 0.96378314 0.96807389\n",
      " 0.99450929 0.98632777 1.         1.027637   1.04060447 1.05463195\n",
      " 1.06951332 1.08503962 1.10103118 1.11734998 1.13389385 1.15058923\n",
      " 1.16738296 1.18423438 1.20111048 1.21798074 1.23481727 1.2515924\n",
      " 1.26827896 1.28485    1.30127811 1.31753778]\n",
      "19 day output [[1.333603]]\n",
      "20 day input [0.81037053 0.81593397 0.81055234 0.8095342  0.79593469 0.80433439\n",
      " 0.81189775 0.82913349 0.84196938 0.83971492 0.83058798 0.82942438\n",
      " 0.83044253 0.82466092 0.82433366 0.83269699 0.83047889 0.84142395\n",
      " 0.84120577 0.83709683 0.83022436 0.83207883 0.84247846 0.8535326\n",
      " 0.859896   0.85436893 0.84582379 0.86778663 0.89538562 0.89644013\n",
      " 0.88905858 0.88684048 0.87622268 0.87851351 0.89258572 0.88636777\n",
      " 0.88618596 0.88371332 0.88367696 0.88018618 0.88029526 0.86953202\n",
      " 0.86393222 0.8685866  0.87876804 0.89705829 0.89851278 0.87905894\n",
      " 0.85880513 0.86062325 0.8743682  0.87793171 0.8771681  0.85833242\n",
      " 0.81960656 0.82135195 0.81378859 0.83989673 0.8181157  0.83866041\n",
      " 0.85447802 0.86080506 0.86080506 0.8585506  0.85364169 0.86611396\n",
      " 0.88953129 0.89484019 0.90603978 0.90945784 0.90647613 0.9186575\n",
      " 0.91283953 0.90909421 0.91629395 0.96378314 0.96807389 0.99450929\n",
      " 0.98632777 1.         1.027637   1.04060447 1.05463195 1.06951332\n",
      " 1.08503962 1.10103118 1.11734998 1.13389385 1.15058923 1.16738296\n",
      " 1.18423438 1.20111048 1.21798074 1.23481727 1.2515924  1.26827896\n",
      " 1.28485    1.30127811 1.31753778 1.33360302]\n",
      "20 day output [[1.3494503]]\n",
      "21 day input [0.81593397 0.81055234 0.8095342  0.79593469 0.80433439 0.81189775\n",
      " 0.82913349 0.84196938 0.83971492 0.83058798 0.82942438 0.83044253\n",
      " 0.82466092 0.82433366 0.83269699 0.83047889 0.84142395 0.84120577\n",
      " 0.83709683 0.83022436 0.83207883 0.84247846 0.8535326  0.859896\n",
      " 0.85436893 0.84582379 0.86778663 0.89538562 0.89644013 0.88905858\n",
      " 0.88684048 0.87622268 0.87851351 0.89258572 0.88636777 0.88618596\n",
      " 0.88371332 0.88367696 0.88018618 0.88029526 0.86953202 0.86393222\n",
      " 0.8685866  0.87876804 0.89705829 0.89851278 0.87905894 0.85880513\n",
      " 0.86062325 0.8743682  0.87793171 0.8771681  0.85833242 0.81960656\n",
      " 0.82135195 0.81378859 0.83989673 0.8181157  0.83866041 0.85447802\n",
      " 0.86080506 0.86080506 0.8585506  0.85364169 0.86611396 0.88953129\n",
      " 0.89484019 0.90603978 0.90945784 0.90647613 0.9186575  0.91283953\n",
      " 0.90909421 0.91629395 0.96378314 0.96807389 0.99450929 0.98632777\n",
      " 1.         1.027637   1.04060447 1.05463195 1.06951332 1.08503962\n",
      " 1.10103118 1.11734998 1.13389385 1.15058923 1.16738296 1.18423438\n",
      " 1.20111048 1.21798074 1.23481727 1.2515924  1.26827896 1.28485\n",
      " 1.30127811 1.31753778 1.33360302 1.34945035]\n",
      "21 day output [[1.3650562]]\n",
      "22 day input [0.81055234 0.8095342  0.79593469 0.80433439 0.81189775 0.82913349\n",
      " 0.84196938 0.83971492 0.83058798 0.82942438 0.83044253 0.82466092\n",
      " 0.82433366 0.83269699 0.83047889 0.84142395 0.84120577 0.83709683\n",
      " 0.83022436 0.83207883 0.84247846 0.8535326  0.859896   0.85436893\n",
      " 0.84582379 0.86778663 0.89538562 0.89644013 0.88905858 0.88684048\n",
      " 0.87622268 0.87851351 0.89258572 0.88636777 0.88618596 0.88371332\n",
      " 0.88367696 0.88018618 0.88029526 0.86953202 0.86393222 0.8685866\n",
      " 0.87876804 0.89705829 0.89851278 0.87905894 0.85880513 0.86062325\n",
      " 0.8743682  0.87793171 0.8771681  0.85833242 0.81960656 0.82135195\n",
      " 0.81378859 0.83989673 0.8181157  0.83866041 0.85447802 0.86080506\n",
      " 0.86080506 0.8585506  0.85364169 0.86611396 0.88953129 0.89484019\n",
      " 0.90603978 0.90945784 0.90647613 0.9186575  0.91283953 0.90909421\n",
      " 0.91629395 0.96378314 0.96807389 0.99450929 0.98632777 1.\n",
      " 1.027637   1.04060447 1.05463195 1.06951332 1.08503962 1.10103118\n",
      " 1.11734998 1.13389385 1.15058923 1.16738296 1.18423438 1.20111048\n",
      " 1.21798074 1.23481727 1.2515924  1.26827896 1.28485    1.30127811\n",
      " 1.31753778 1.33360302 1.34945035 1.36505616]\n",
      "22 day output [[1.3803995]]\n",
      "23 day input [0.8095342  0.79593469 0.80433439 0.81189775 0.82913349 0.84196938\n",
      " 0.83971492 0.83058798 0.82942438 0.83044253 0.82466092 0.82433366\n",
      " 0.83269699 0.83047889 0.84142395 0.84120577 0.83709683 0.83022436\n",
      " 0.83207883 0.84247846 0.8535326  0.859896   0.85436893 0.84582379\n",
      " 0.86778663 0.89538562 0.89644013 0.88905858 0.88684048 0.87622268\n",
      " 0.87851351 0.89258572 0.88636777 0.88618596 0.88371332 0.88367696\n",
      " 0.88018618 0.88029526 0.86953202 0.86393222 0.8685866  0.87876804\n",
      " 0.89705829 0.89851278 0.87905894 0.85880513 0.86062325 0.8743682\n",
      " 0.87793171 0.8771681  0.85833242 0.81960656 0.82135195 0.81378859\n",
      " 0.83989673 0.8181157  0.83866041 0.85447802 0.86080506 0.86080506\n",
      " 0.8585506  0.85364169 0.86611396 0.88953129 0.89484019 0.90603978\n",
      " 0.90945784 0.90647613 0.9186575  0.91283953 0.90909421 0.91629395\n",
      " 0.96378314 0.96807389 0.99450929 0.98632777 1.         1.027637\n",
      " 1.04060447 1.05463195 1.06951332 1.08503962 1.10103118 1.11734998\n",
      " 1.13389385 1.15058923 1.16738296 1.18423438 1.20111048 1.21798074\n",
      " 1.23481727 1.2515924  1.26827896 1.28485    1.30127811 1.31753778\n",
      " 1.33360302 1.34945035 1.36505616 1.38039947]\n",
      "23 day output [[1.3954598]]\n",
      "24 day input [0.79593469 0.80433439 0.81189775 0.82913349 0.84196938 0.83971492\n",
      " 0.83058798 0.82942438 0.83044253 0.82466092 0.82433366 0.83269699\n",
      " 0.83047889 0.84142395 0.84120577 0.83709683 0.83022436 0.83207883\n",
      " 0.84247846 0.8535326  0.859896   0.85436893 0.84582379 0.86778663\n",
      " 0.89538562 0.89644013 0.88905858 0.88684048 0.87622268 0.87851351\n",
      " 0.89258572 0.88636777 0.88618596 0.88371332 0.88367696 0.88018618\n",
      " 0.88029526 0.86953202 0.86393222 0.8685866  0.87876804 0.89705829\n",
      " 0.89851278 0.87905894 0.85880513 0.86062325 0.8743682  0.87793171\n",
      " 0.8771681  0.85833242 0.81960656 0.82135195 0.81378859 0.83989673\n",
      " 0.8181157  0.83866041 0.85447802 0.86080506 0.86080506 0.8585506\n",
      " 0.85364169 0.86611396 0.88953129 0.89484019 0.90603978 0.90945784\n",
      " 0.90647613 0.9186575  0.91283953 0.90909421 0.91629395 0.96378314\n",
      " 0.96807389 0.99450929 0.98632777 1.         1.027637   1.04060447\n",
      " 1.05463195 1.06951332 1.08503962 1.10103118 1.11734998 1.13389385\n",
      " 1.15058923 1.16738296 1.18423438 1.20111048 1.21798074 1.23481727\n",
      " 1.2515924  1.26827896 1.28485    1.30127811 1.31753778 1.33360302\n",
      " 1.34945035 1.36505616 1.38039947 1.39545977]\n",
      "24 day output [[1.410219]]\n",
      "25 day input [0.80433439 0.81189775 0.82913349 0.84196938 0.83971492 0.83058798\n",
      " 0.82942438 0.83044253 0.82466092 0.82433366 0.83269699 0.83047889\n",
      " 0.84142395 0.84120577 0.83709683 0.83022436 0.83207883 0.84247846\n",
      " 0.8535326  0.859896   0.85436893 0.84582379 0.86778663 0.89538562\n",
      " 0.89644013 0.88905858 0.88684048 0.87622268 0.87851351 0.89258572\n",
      " 0.88636777 0.88618596 0.88371332 0.88367696 0.88018618 0.88029526\n",
      " 0.86953202 0.86393222 0.8685866  0.87876804 0.89705829 0.89851278\n",
      " 0.87905894 0.85880513 0.86062325 0.8743682  0.87793171 0.8771681\n",
      " 0.85833242 0.81960656 0.82135195 0.81378859 0.83989673 0.8181157\n",
      " 0.83866041 0.85447802 0.86080506 0.86080506 0.8585506  0.85364169\n",
      " 0.86611396 0.88953129 0.89484019 0.90603978 0.90945784 0.90647613\n",
      " 0.9186575  0.91283953 0.90909421 0.91629395 0.96378314 0.96807389\n",
      " 0.99450929 0.98632777 1.         1.027637   1.04060447 1.05463195\n",
      " 1.06951332 1.08503962 1.10103118 1.11734998 1.13389385 1.15058923\n",
      " 1.16738296 1.18423438 1.20111048 1.21798074 1.23481727 1.2515924\n",
      " 1.26827896 1.28485    1.30127811 1.31753778 1.33360302 1.34945035\n",
      " 1.36505616 1.38039947 1.39545977 1.41021895]\n",
      "25 day output [[1.4246601]]\n",
      "26 day input [0.81189775 0.82913349 0.84196938 0.83971492 0.83058798 0.82942438\n",
      " 0.83044253 0.82466092 0.82433366 0.83269699 0.83047889 0.84142395\n",
      " 0.84120577 0.83709683 0.83022436 0.83207883 0.84247846 0.8535326\n",
      " 0.859896   0.85436893 0.84582379 0.86778663 0.89538562 0.89644013\n",
      " 0.88905858 0.88684048 0.87622268 0.87851351 0.89258572 0.88636777\n",
      " 0.88618596 0.88371332 0.88367696 0.88018618 0.88029526 0.86953202\n",
      " 0.86393222 0.8685866  0.87876804 0.89705829 0.89851278 0.87905894\n",
      " 0.85880513 0.86062325 0.8743682  0.87793171 0.8771681  0.85833242\n",
      " 0.81960656 0.82135195 0.81378859 0.83989673 0.8181157  0.83866041\n",
      " 0.85447802 0.86080506 0.86080506 0.8585506  0.85364169 0.86611396\n",
      " 0.88953129 0.89484019 0.90603978 0.90945784 0.90647613 0.9186575\n",
      " 0.91283953 0.90909421 0.91629395 0.96378314 0.96807389 0.99450929\n",
      " 0.98632777 1.         1.027637   1.04060447 1.05463195 1.06951332\n",
      " 1.08503962 1.10103118 1.11734998 1.13389385 1.15058923 1.16738296\n",
      " 1.18423438 1.20111048 1.21798074 1.23481727 1.2515924  1.26827896\n",
      " 1.28485    1.30127811 1.31753778 1.33360302 1.34945035 1.36505616\n",
      " 1.38039947 1.39545977 1.41021895 1.42466009]\n",
      "26 day output [[1.4387683]]\n",
      "27 day input [0.82913349 0.84196938 0.83971492 0.83058798 0.82942438 0.83044253\n",
      " 0.82466092 0.82433366 0.83269699 0.83047889 0.84142395 0.84120577\n",
      " 0.83709683 0.83022436 0.83207883 0.84247846 0.8535326  0.859896\n",
      " 0.85436893 0.84582379 0.86778663 0.89538562 0.89644013 0.88905858\n",
      " 0.88684048 0.87622268 0.87851351 0.89258572 0.88636777 0.88618596\n",
      " 0.88371332 0.88367696 0.88018618 0.88029526 0.86953202 0.86393222\n",
      " 0.8685866  0.87876804 0.89705829 0.89851278 0.87905894 0.85880513\n",
      " 0.86062325 0.8743682  0.87793171 0.8771681  0.85833242 0.81960656\n",
      " 0.82135195 0.81378859 0.83989673 0.8181157  0.83866041 0.85447802\n",
      " 0.86080506 0.86080506 0.8585506  0.85364169 0.86611396 0.88953129\n",
      " 0.89484019 0.90603978 0.90945784 0.90647613 0.9186575  0.91283953\n",
      " 0.90909421 0.91629395 0.96378314 0.96807389 0.99450929 0.98632777\n",
      " 1.         1.027637   1.04060447 1.05463195 1.06951332 1.08503962\n",
      " 1.10103118 1.11734998 1.13389385 1.15058923 1.16738296 1.18423438\n",
      " 1.20111048 1.21798074 1.23481727 1.2515924  1.26827896 1.28485\n",
      " 1.30127811 1.31753778 1.33360302 1.34945035 1.36505616 1.38039947\n",
      " 1.39545977 1.41021895 1.42466009 1.43876827]\n"
     ]
    },
    {
     "name": "stdout",
     "output_type": "stream",
     "text": [
      "27 day output [[1.4525305]]\n",
      "28 day input [0.84196938 0.83971492 0.83058798 0.82942438 0.83044253 0.82466092\n",
      " 0.82433366 0.83269699 0.83047889 0.84142395 0.84120577 0.83709683\n",
      " 0.83022436 0.83207883 0.84247846 0.8535326  0.859896   0.85436893\n",
      " 0.84582379 0.86778663 0.89538562 0.89644013 0.88905858 0.88684048\n",
      " 0.87622268 0.87851351 0.89258572 0.88636777 0.88618596 0.88371332\n",
      " 0.88367696 0.88018618 0.88029526 0.86953202 0.86393222 0.8685866\n",
      " 0.87876804 0.89705829 0.89851278 0.87905894 0.85880513 0.86062325\n",
      " 0.8743682  0.87793171 0.8771681  0.85833242 0.81960656 0.82135195\n",
      " 0.81378859 0.83989673 0.8181157  0.83866041 0.85447802 0.86080506\n",
      " 0.86080506 0.8585506  0.85364169 0.86611396 0.88953129 0.89484019\n",
      " 0.90603978 0.90945784 0.90647613 0.9186575  0.91283953 0.90909421\n",
      " 0.91629395 0.96378314 0.96807389 0.99450929 0.98632777 1.\n",
      " 1.027637   1.04060447 1.05463195 1.06951332 1.08503962 1.10103118\n",
      " 1.11734998 1.13389385 1.15058923 1.16738296 1.18423438 1.20111048\n",
      " 1.21798074 1.23481727 1.2515924  1.26827896 1.28485    1.30127811\n",
      " 1.31753778 1.33360302 1.34945035 1.36505616 1.38039947 1.39545977\n",
      " 1.41021895 1.42466009 1.43876827 1.4525305 ]\n",
      "28 day output [[1.4659357]]\n",
      "29 day input [0.83971492 0.83058798 0.82942438 0.83044253 0.82466092 0.82433366\n",
      " 0.83269699 0.83047889 0.84142395 0.84120577 0.83709683 0.83022436\n",
      " 0.83207883 0.84247846 0.8535326  0.859896   0.85436893 0.84582379\n",
      " 0.86778663 0.89538562 0.89644013 0.88905858 0.88684048 0.87622268\n",
      " 0.87851351 0.89258572 0.88636777 0.88618596 0.88371332 0.88367696\n",
      " 0.88018618 0.88029526 0.86953202 0.86393222 0.8685866  0.87876804\n",
      " 0.89705829 0.89851278 0.87905894 0.85880513 0.86062325 0.8743682\n",
      " 0.87793171 0.8771681  0.85833242 0.81960656 0.82135195 0.81378859\n",
      " 0.83989673 0.8181157  0.83866041 0.85447802 0.86080506 0.86080506\n",
      " 0.8585506  0.85364169 0.86611396 0.88953129 0.89484019 0.90603978\n",
      " 0.90945784 0.90647613 0.9186575  0.91283953 0.90909421 0.91629395\n",
      " 0.96378314 0.96807389 0.99450929 0.98632777 1.         1.027637\n",
      " 1.04060447 1.05463195 1.06951332 1.08503962 1.10103118 1.11734998\n",
      " 1.13389385 1.15058923 1.16738296 1.18423438 1.20111048 1.21798074\n",
      " 1.23481727 1.2515924  1.26827896 1.28485    1.30127811 1.31753778\n",
      " 1.33360302 1.34945035 1.36505616 1.38039947 1.39545977 1.41021895\n",
      " 1.42466009 1.43876827 1.4525305  1.46593571]\n",
      "29 day output [[1.4789735]]\n",
      "[[1.027637004852295], [1.0406044721603394], [1.0546319484710693], [1.0695133209228516], [1.0850396156311035], [1.1010311841964722], [1.1173499822616577], [1.1338938474655151], [1.1505892276763916], [1.1673829555511475], [1.184234380722046], [1.2011104822158813], [1.2179807424545288], [1.2348172664642334], [1.2515923976898193], [1.268278956413269], [1.284850001335144], [1.3012781143188477], [1.317537784576416], [1.333603024482727], [1.3494503498077393], [1.3650561571121216], [1.380399465560913], [1.395459771156311], [1.4102189540863037], [1.424660086631775], [1.4387682676315308], [1.4525305032730103], [1.4659357070922852], [1.4789735078811646]]\n"
     ]
    }
   ],
   "source": [
    "#demonstrate prediction for next 10 dats\n",
    "from numpy import array\n",
    "\n",
    "lst_output = []\n",
    "n_steps = 100\n",
    "i = 0\n",
    "\n",
    "while(i<30):\n",
    "    if(len(t_inp)>100):\n",
    "        x_input = np.array(t_inp[1:])\n",
    "        print(\"{} day input {}\".format(i,x_input))\n",
    "        x_input = x_input.reshape(1,-1)\n",
    "        x_input = x_input.reshape((1, n_steps, 1))\n",
    "        \n",
    "        yhat = model.predict(x_input, verbose=0)\n",
    "        print(\"{} day output {}\".format(i, yhat))\n",
    "        t_inp.extend(yhat[0].tolist())\n",
    "        t_inp=t_inp[1:]\n",
    "        \n",
    "        lst_output.extend(yhat.tolist())\n",
    "        i=i+1\n",
    "    else:\n",
    "        x_input = x_input.reshape((1, n_steps, 1))\n",
    "        yhat = model.predict(x_input, verbose=0)\n",
    "        print(yhat[0])\n",
    "        t_inp.extend(yhat[0].tolist())\n",
    "        print(len(t_inp))\n",
    "        lst_output.extend(yhat.tolist())\n",
    "        i=i+1\n",
    "        \n",
    "\n",
    "print(lst_output)"
   ]
  },
  {
   "cell_type": "code",
   "execution_count": 57,
   "id": "f336dfc2",
   "metadata": {},
   "outputs": [],
   "source": [
    "day_new = np.arange(1,102)\n",
    "day_pred = np.arange(101,131)"
   ]
  },
  {
   "cell_type": "code",
   "execution_count": 58,
   "id": "86f987dc",
   "metadata": {},
   "outputs": [
    {
     "data": {
      "text/plain": [
       "1258"
      ]
     },
     "execution_count": 58,
     "metadata": {},
     "output_type": "execute_result"
    }
   ],
   "source": [
    "len(df1)"
   ]
  },
  {
   "cell_type": "code",
   "execution_count": 59,
   "id": "fbf1ce60",
   "metadata": {},
   "outputs": [],
   "source": [
    "df3 = df1.tolist()\n",
    "df3.extend(lst_output)"
   ]
  },
  {
   "cell_type": "code",
   "execution_count": 60,
   "id": "6d8318c6",
   "metadata": {},
   "outputs": [
    {
     "data": {
      "text/plain": [
       "[<matplotlib.lines.Line2D at 0x1f4fac19a90>]"
      ]
     },
     "execution_count": 60,
     "metadata": {},
     "output_type": "execute_result"
    },
    {
     "data": {
      "image/png": "[encoded data removed]",
      "text/plain": [
       "<Figure size 432x288 with 1 Axes>"
      ]
     },
     "metadata": {
      "needs_background": "light"
     },
     "output_type": "display_data"
    }
   ],
   "source": [
    "plt.plot(day_new, scaler.inverse_transform(df1[1157:]))\n",
    "plt.plot(day_pred, scaler.inverse_transform(lst_output))"
   ]
  },
  {
   "cell_type": "code",
   "execution_count": 61,
   "id": "ff4913e7",
   "metadata": {},
   "outputs": [
    {
     "data": {
      "text/plain": [
       "[<matplotlib.lines.Line2D at 0x1f4fac0c940>]"
      ]
     },
     "execution_count": 61,
     "metadata": {},
     "output_type": "execute_result"
    },
    {
     "data": {
      "image/png": "[encoded data removed]",
      "text/plain": [
       "<Figure size 432x288 with 1 Axes>"
      ]
     },
     "metadata": {
      "needs_background": "light"
     },
     "output_type": "display_data"
    }
   ],
   "source": [
    "df3 = df1.tolist()\n",
    "df3.extend(lst_output)\n",
    "plt.plot(df3[1000:])"
   ]
  },
  {
   "cell_type": "code",
   "execution_count": null,
   "id": "62590a82",
   "metadata": {},
   "outputs": [],
   "source": []
  }
 ],
 "metadata": {
  "kernelspec": {
   "display_name": "Python 3",
   "language": "python",
   "name": "python3"
  },
  "language_info": {
   "codemirror_mode": {
    "name": "ipython",
    "version": 3
   },
   "file_extension": ".py",
   "mimetype": "text/x-python",
   "name": "python",
   "nbconvert_exporter": "python",
   "pygments_lexer": "ipython3",
   "version": "3.8.5"
  }
 },
 "nbformat": 4,
 "nbformat_minor": 5
}
